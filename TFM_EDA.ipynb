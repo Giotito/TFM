{
 "cells": [
  {
   "cell_type": "markdown",
   "metadata": {},
   "source": [
    "## ANALYSIS DATA EXPLORATORY"
   ]
  },
  {
   "cell_type": "code",
   "execution_count": 3,
   "metadata": {},
   "outputs": [],
   "source": [
    "import pandas as pd\n",
    "import numpy as np\n",
    "import matplotlib.pyplot as plt\n",
    "import os\n",
    "\n",
    "train = pd.read_csv('train.csv', header=None, encoding = \"ISO-8859-1\")\n",
    "test = pd.read_csv('test.csv', header=None )\n",
    "\n",
    "#train = pd.read_csv('train.csv', header=None)"
   ]
  },
  {
   "cell_type": "code",
   "execution_count": 4,
   "metadata": {},
   "outputs": [
    {
     "data": {
      "text/html": [
       "<div>\n",
       "<style scoped>\n",
       "    .dataframe tbody tr th:only-of-type {\n",
       "        vertical-align: middle;\n",
       "    }\n",
       "\n",
       "    .dataframe tbody tr th {\n",
       "        vertical-align: top;\n",
       "    }\n",
       "\n",
       "    .dataframe thead th {\n",
       "        text-align: right;\n",
       "    }\n",
       "</style>\n",
       "<table border=\"1\" class=\"dataframe\">\n",
       "  <thead>\n",
       "    <tr style=\"text-align: right;\">\n",
       "      <th></th>\n",
       "      <th>0</th>\n",
       "      <th>1</th>\n",
       "      <th>2</th>\n",
       "      <th>3</th>\n",
       "      <th>4</th>\n",
       "      <th>5</th>\n",
       "    </tr>\n",
       "  </thead>\n",
       "  <tbody>\n",
       "    <tr>\n",
       "      <th>0</th>\n",
       "      <td>4</td>\n",
       "      <td>3</td>\n",
       "      <td>Mon May 11 03:17:40 UTC 2009</td>\n",
       "      <td>kindle2</td>\n",
       "      <td>tpryan</td>\n",
       "      <td>@stellargirl I loooooooovvvvvveee my Kindle2. ...</td>\n",
       "    </tr>\n",
       "    <tr>\n",
       "      <th>1</th>\n",
       "      <td>4</td>\n",
       "      <td>4</td>\n",
       "      <td>Mon May 11 03:18:03 UTC 2009</td>\n",
       "      <td>kindle2</td>\n",
       "      <td>vcu451</td>\n",
       "      <td>Reading my kindle2...  Love it... Lee childs i...</td>\n",
       "    </tr>\n",
       "    <tr>\n",
       "      <th>2</th>\n",
       "      <td>4</td>\n",
       "      <td>5</td>\n",
       "      <td>Mon May 11 03:18:54 UTC 2009</td>\n",
       "      <td>kindle2</td>\n",
       "      <td>chadfu</td>\n",
       "      <td>Ok, first assesment of the #kindle2 ...it fuck...</td>\n",
       "    </tr>\n",
       "    <tr>\n",
       "      <th>3</th>\n",
       "      <td>4</td>\n",
       "      <td>6</td>\n",
       "      <td>Mon May 11 03:19:04 UTC 2009</td>\n",
       "      <td>kindle2</td>\n",
       "      <td>SIX15</td>\n",
       "      <td>@kenburbary You'll love your Kindle2. I've had...</td>\n",
       "    </tr>\n",
       "    <tr>\n",
       "      <th>4</th>\n",
       "      <td>4</td>\n",
       "      <td>7</td>\n",
       "      <td>Mon May 11 03:21:41 UTC 2009</td>\n",
       "      <td>kindle2</td>\n",
       "      <td>yamarama</td>\n",
       "      <td>@mikefish  Fair enough. But i have the Kindle2...</td>\n",
       "    </tr>\n",
       "  </tbody>\n",
       "</table>\n",
       "</div>"
      ],
      "text/plain": [
       "   0  1                             2        3         4  \\\n",
       "0  4  3  Mon May 11 03:17:40 UTC 2009  kindle2    tpryan   \n",
       "1  4  4  Mon May 11 03:18:03 UTC 2009  kindle2    vcu451   \n",
       "2  4  5  Mon May 11 03:18:54 UTC 2009  kindle2    chadfu   \n",
       "3  4  6  Mon May 11 03:19:04 UTC 2009  kindle2     SIX15   \n",
       "4  4  7  Mon May 11 03:21:41 UTC 2009  kindle2  yamarama   \n",
       "\n",
       "                                                   5  \n",
       "0  @stellargirl I loooooooovvvvvveee my Kindle2. ...  \n",
       "1  Reading my kindle2...  Love it... Lee childs i...  \n",
       "2  Ok, first assesment of the #kindle2 ...it fuck...  \n",
       "3  @kenburbary You'll love your Kindle2. I've had...  \n",
       "4  @mikefish  Fair enough. But i have the Kindle2...  "
      ]
     },
     "execution_count": 4,
     "metadata": {},
     "output_type": "execute_result"
    }
   ],
   "source": [
    "test.head()"
   ]
  },
  {
   "cell_type": "code",
   "execution_count": 5,
   "metadata": {},
   "outputs": [
    {
     "data": {
      "text/html": [
       "<div>\n",
       "<style scoped>\n",
       "    .dataframe tbody tr th:only-of-type {\n",
       "        vertical-align: middle;\n",
       "    }\n",
       "\n",
       "    .dataframe tbody tr th {\n",
       "        vertical-align: top;\n",
       "    }\n",
       "\n",
       "    .dataframe thead th {\n",
       "        text-align: right;\n",
       "    }\n",
       "</style>\n",
       "<table border=\"1\" class=\"dataframe\">\n",
       "  <thead>\n",
       "    <tr style=\"text-align: right;\">\n",
       "      <th></th>\n",
       "      <th>0</th>\n",
       "      <th>1</th>\n",
       "      <th>2</th>\n",
       "      <th>3</th>\n",
       "      <th>4</th>\n",
       "      <th>5</th>\n",
       "    </tr>\n",
       "  </thead>\n",
       "  <tbody>\n",
       "    <tr>\n",
       "      <th>0</th>\n",
       "      <td>0</td>\n",
       "      <td>1467810369</td>\n",
       "      <td>Mon Apr 06 22:19:45 PDT 2009</td>\n",
       "      <td>NO_QUERY</td>\n",
       "      <td>_TheSpecialOne_</td>\n",
       "      <td>@switchfoot http://twitpic.com/2y1zl - Awww, t...</td>\n",
       "    </tr>\n",
       "    <tr>\n",
       "      <th>1</th>\n",
       "      <td>0</td>\n",
       "      <td>1467810672</td>\n",
       "      <td>Mon Apr 06 22:19:49 PDT 2009</td>\n",
       "      <td>NO_QUERY</td>\n",
       "      <td>scotthamilton</td>\n",
       "      <td>is upset that he can't update his Facebook by ...</td>\n",
       "    </tr>\n",
       "    <tr>\n",
       "      <th>2</th>\n",
       "      <td>0</td>\n",
       "      <td>1467810917</td>\n",
       "      <td>Mon Apr 06 22:19:53 PDT 2009</td>\n",
       "      <td>NO_QUERY</td>\n",
       "      <td>mattycus</td>\n",
       "      <td>@Kenichan I dived many times for the ball. Man...</td>\n",
       "    </tr>\n",
       "    <tr>\n",
       "      <th>3</th>\n",
       "      <td>0</td>\n",
       "      <td>1467811184</td>\n",
       "      <td>Mon Apr 06 22:19:57 PDT 2009</td>\n",
       "      <td>NO_QUERY</td>\n",
       "      <td>ElleCTF</td>\n",
       "      <td>my whole body feels itchy and like its on fire</td>\n",
       "    </tr>\n",
       "    <tr>\n",
       "      <th>4</th>\n",
       "      <td>0</td>\n",
       "      <td>1467811193</td>\n",
       "      <td>Mon Apr 06 22:19:57 PDT 2009</td>\n",
       "      <td>NO_QUERY</td>\n",
       "      <td>Karoli</td>\n",
       "      <td>@nationwideclass no, it's not behaving at all....</td>\n",
       "    </tr>\n",
       "  </tbody>\n",
       "</table>\n",
       "</div>"
      ],
      "text/plain": [
       "   0           1                             2         3                4  \\\n",
       "0  0  1467810369  Mon Apr 06 22:19:45 PDT 2009  NO_QUERY  _TheSpecialOne_   \n",
       "1  0  1467810672  Mon Apr 06 22:19:49 PDT 2009  NO_QUERY    scotthamilton   \n",
       "2  0  1467810917  Mon Apr 06 22:19:53 PDT 2009  NO_QUERY         mattycus   \n",
       "3  0  1467811184  Mon Apr 06 22:19:57 PDT 2009  NO_QUERY          ElleCTF   \n",
       "4  0  1467811193  Mon Apr 06 22:19:57 PDT 2009  NO_QUERY           Karoli   \n",
       "\n",
       "                                                   5  \n",
       "0  @switchfoot http://twitpic.com/2y1zl - Awww, t...  \n",
       "1  is upset that he can't update his Facebook by ...  \n",
       "2  @Kenichan I dived many times for the ball. Man...  \n",
       "3    my whole body feels itchy and like its on fire   \n",
       "4  @nationwideclass no, it's not behaving at all....  "
      ]
     },
     "execution_count": 5,
     "metadata": {},
     "output_type": "execute_result"
    }
   ],
   "source": [
    "train.head()"
   ]
  },
  {
   "cell_type": "code",
   "execution_count": 6,
   "metadata": {},
   "outputs": [],
   "source": [
    "# Renombrar las columnas\n",
    "nuevos_nombres = [ 'TARGET', 'CODIGO', 'FECHA_STRING', 'TIPO', 'USUARIO', 'COMENTARIO']"
   ]
  },
  {
   "cell_type": "code",
   "execution_count": 7,
   "metadata": {},
   "outputs": [],
   "source": [
    "#test.rename(columns=nuevos_nombres, inplace=True)\n",
    "test.rename(columns=dict(zip(test.columns, nuevos_nombres)), inplace=True)\n",
    "train.rename(columns=dict(zip(train.columns, nuevos_nombres)), inplace=True)"
   ]
  },
  {
   "cell_type": "code",
   "execution_count": 8,
   "metadata": {},
   "outputs": [
    {
     "data": {
      "text/html": [
       "<div>\n",
       "<style scoped>\n",
       "    .dataframe tbody tr th:only-of-type {\n",
       "        vertical-align: middle;\n",
       "    }\n",
       "\n",
       "    .dataframe tbody tr th {\n",
       "        vertical-align: top;\n",
       "    }\n",
       "\n",
       "    .dataframe thead th {\n",
       "        text-align: right;\n",
       "    }\n",
       "</style>\n",
       "<table border=\"1\" class=\"dataframe\">\n",
       "  <thead>\n",
       "    <tr style=\"text-align: right;\">\n",
       "      <th></th>\n",
       "      <th>TARGET</th>\n",
       "      <th>CODIGO</th>\n",
       "      <th>FECHA_STRING</th>\n",
       "      <th>TIPO</th>\n",
       "      <th>USUARIO</th>\n",
       "      <th>COMENTARIO</th>\n",
       "    </tr>\n",
       "  </thead>\n",
       "  <tbody>\n",
       "    <tr>\n",
       "      <th>0</th>\n",
       "      <td>4</td>\n",
       "      <td>3</td>\n",
       "      <td>Mon May 11 03:17:40 UTC 2009</td>\n",
       "      <td>kindle2</td>\n",
       "      <td>tpryan</td>\n",
       "      <td>@stellargirl I loooooooovvvvvveee my Kindle2. ...</td>\n",
       "    </tr>\n",
       "    <tr>\n",
       "      <th>1</th>\n",
       "      <td>4</td>\n",
       "      <td>4</td>\n",
       "      <td>Mon May 11 03:18:03 UTC 2009</td>\n",
       "      <td>kindle2</td>\n",
       "      <td>vcu451</td>\n",
       "      <td>Reading my kindle2...  Love it... Lee childs i...</td>\n",
       "    </tr>\n",
       "    <tr>\n",
       "      <th>2</th>\n",
       "      <td>4</td>\n",
       "      <td>5</td>\n",
       "      <td>Mon May 11 03:18:54 UTC 2009</td>\n",
       "      <td>kindle2</td>\n",
       "      <td>chadfu</td>\n",
       "      <td>Ok, first assesment of the #kindle2 ...it fuck...</td>\n",
       "    </tr>\n",
       "    <tr>\n",
       "      <th>3</th>\n",
       "      <td>4</td>\n",
       "      <td>6</td>\n",
       "      <td>Mon May 11 03:19:04 UTC 2009</td>\n",
       "      <td>kindle2</td>\n",
       "      <td>SIX15</td>\n",
       "      <td>@kenburbary You'll love your Kindle2. I've had...</td>\n",
       "    </tr>\n",
       "    <tr>\n",
       "      <th>4</th>\n",
       "      <td>4</td>\n",
       "      <td>7</td>\n",
       "      <td>Mon May 11 03:21:41 UTC 2009</td>\n",
       "      <td>kindle2</td>\n",
       "      <td>yamarama</td>\n",
       "      <td>@mikefish  Fair enough. But i have the Kindle2...</td>\n",
       "    </tr>\n",
       "  </tbody>\n",
       "</table>\n",
       "</div>"
      ],
      "text/plain": [
       "   TARGET  CODIGO                  FECHA_STRING     TIPO   USUARIO  \\\n",
       "0       4       3  Mon May 11 03:17:40 UTC 2009  kindle2    tpryan   \n",
       "1       4       4  Mon May 11 03:18:03 UTC 2009  kindle2    vcu451   \n",
       "2       4       5  Mon May 11 03:18:54 UTC 2009  kindle2    chadfu   \n",
       "3       4       6  Mon May 11 03:19:04 UTC 2009  kindle2     SIX15   \n",
       "4       4       7  Mon May 11 03:21:41 UTC 2009  kindle2  yamarama   \n",
       "\n",
       "                                          COMENTARIO  \n",
       "0  @stellargirl I loooooooovvvvvveee my Kindle2. ...  \n",
       "1  Reading my kindle2...  Love it... Lee childs i...  \n",
       "2  Ok, first assesment of the #kindle2 ...it fuck...  \n",
       "3  @kenburbary You'll love your Kindle2. I've had...  \n",
       "4  @mikefish  Fair enough. But i have the Kindle2...  "
      ]
     },
     "execution_count": 8,
     "metadata": {},
     "output_type": "execute_result"
    }
   ],
   "source": [
    "test.head()"
   ]
  },
  {
   "cell_type": "code",
   "execution_count": 9,
   "metadata": {},
   "outputs": [
    {
     "data": {
      "text/html": [
       "<div>\n",
       "<style scoped>\n",
       "    .dataframe tbody tr th:only-of-type {\n",
       "        vertical-align: middle;\n",
       "    }\n",
       "\n",
       "    .dataframe tbody tr th {\n",
       "        vertical-align: top;\n",
       "    }\n",
       "\n",
       "    .dataframe thead th {\n",
       "        text-align: right;\n",
       "    }\n",
       "</style>\n",
       "<table border=\"1\" class=\"dataframe\">\n",
       "  <thead>\n",
       "    <tr style=\"text-align: right;\">\n",
       "      <th></th>\n",
       "      <th>TARGET</th>\n",
       "      <th>CODIGO</th>\n",
       "      <th>FECHA_STRING</th>\n",
       "      <th>TIPO</th>\n",
       "      <th>USUARIO</th>\n",
       "      <th>COMENTARIO</th>\n",
       "    </tr>\n",
       "  </thead>\n",
       "  <tbody>\n",
       "    <tr>\n",
       "      <th>0</th>\n",
       "      <td>0</td>\n",
       "      <td>1467810369</td>\n",
       "      <td>Mon Apr 06 22:19:45 PDT 2009</td>\n",
       "      <td>NO_QUERY</td>\n",
       "      <td>_TheSpecialOne_</td>\n",
       "      <td>@switchfoot http://twitpic.com/2y1zl - Awww, t...</td>\n",
       "    </tr>\n",
       "    <tr>\n",
       "      <th>1</th>\n",
       "      <td>0</td>\n",
       "      <td>1467810672</td>\n",
       "      <td>Mon Apr 06 22:19:49 PDT 2009</td>\n",
       "      <td>NO_QUERY</td>\n",
       "      <td>scotthamilton</td>\n",
       "      <td>is upset that he can't update his Facebook by ...</td>\n",
       "    </tr>\n",
       "    <tr>\n",
       "      <th>2</th>\n",
       "      <td>0</td>\n",
       "      <td>1467810917</td>\n",
       "      <td>Mon Apr 06 22:19:53 PDT 2009</td>\n",
       "      <td>NO_QUERY</td>\n",
       "      <td>mattycus</td>\n",
       "      <td>@Kenichan I dived many times for the ball. Man...</td>\n",
       "    </tr>\n",
       "    <tr>\n",
       "      <th>3</th>\n",
       "      <td>0</td>\n",
       "      <td>1467811184</td>\n",
       "      <td>Mon Apr 06 22:19:57 PDT 2009</td>\n",
       "      <td>NO_QUERY</td>\n",
       "      <td>ElleCTF</td>\n",
       "      <td>my whole body feels itchy and like its on fire</td>\n",
       "    </tr>\n",
       "    <tr>\n",
       "      <th>4</th>\n",
       "      <td>0</td>\n",
       "      <td>1467811193</td>\n",
       "      <td>Mon Apr 06 22:19:57 PDT 2009</td>\n",
       "      <td>NO_QUERY</td>\n",
       "      <td>Karoli</td>\n",
       "      <td>@nationwideclass no, it's not behaving at all....</td>\n",
       "    </tr>\n",
       "  </tbody>\n",
       "</table>\n",
       "</div>"
      ],
      "text/plain": [
       "   TARGET      CODIGO                  FECHA_STRING      TIPO  \\\n",
       "0       0  1467810369  Mon Apr 06 22:19:45 PDT 2009  NO_QUERY   \n",
       "1       0  1467810672  Mon Apr 06 22:19:49 PDT 2009  NO_QUERY   \n",
       "2       0  1467810917  Mon Apr 06 22:19:53 PDT 2009  NO_QUERY   \n",
       "3       0  1467811184  Mon Apr 06 22:19:57 PDT 2009  NO_QUERY   \n",
       "4       0  1467811193  Mon Apr 06 22:19:57 PDT 2009  NO_QUERY   \n",
       "\n",
       "           USUARIO                                         COMENTARIO  \n",
       "0  _TheSpecialOne_  @switchfoot http://twitpic.com/2y1zl - Awww, t...  \n",
       "1    scotthamilton  is upset that he can't update his Facebook by ...  \n",
       "2         mattycus  @Kenichan I dived many times for the ball. Man...  \n",
       "3          ElleCTF    my whole body feels itchy and like its on fire   \n",
       "4           Karoli  @nationwideclass no, it's not behaving at all....  "
      ]
     },
     "execution_count": 9,
     "metadata": {},
     "output_type": "execute_result"
    }
   ],
   "source": [
    "train.head()"
   ]
  },
  {
   "cell_type": "code",
   "execution_count": 10,
   "metadata": {},
   "outputs": [
    {
     "name": "stdout",
     "output_type": "stream",
     "text": [
      "<class 'pandas.core.frame.DataFrame'>\n",
      "RangeIndex: 1600000 entries, 0 to 1599999\n",
      "Data columns (total 6 columns):\n",
      " #   Column        Non-Null Count    Dtype \n",
      "---  ------        --------------    ----- \n",
      " 0   TARGET        1600000 non-null  int64 \n",
      " 1   CODIGO        1600000 non-null  int64 \n",
      " 2   FECHA_STRING  1600000 non-null  object\n",
      " 3   TIPO          1600000 non-null  object\n",
      " 4   USUARIO       1600000 non-null  object\n",
      " 5   COMENTARIO    1600000 non-null  object\n",
      "dtypes: int64(2), object(4)\n",
      "memory usage: 73.2+ MB\n"
     ]
    }
   ],
   "source": [
    "train.info()"
   ]
  },
  {
   "cell_type": "code",
   "execution_count": 11,
   "metadata": {},
   "outputs": [
    {
     "data": {
      "text/plain": [
       "(1600000, 6)"
      ]
     },
     "execution_count": 11,
     "metadata": {},
     "output_type": "execute_result"
    }
   ],
   "source": [
    "train.shape"
   ]
  },
  {
   "cell_type": "code",
   "execution_count": 12,
   "metadata": {},
   "outputs": [
    {
     "data": {
      "text/plain": [
       "(498, 6)"
      ]
     },
     "execution_count": 12,
     "metadata": {},
     "output_type": "execute_result"
    }
   ],
   "source": [
    "test.shape"
   ]
  },
  {
   "cell_type": "code",
   "execution_count": 13,
   "metadata": {},
   "outputs": [
    {
     "data": {
      "text/plain": [
       "TARGET                2\n",
       "CODIGO          1598315\n",
       "FECHA_STRING     774363\n",
       "TIPO                  1\n",
       "USUARIO          659775\n",
       "COMENTARIO      1581466\n",
       "dtype: int64"
      ]
     },
     "execution_count": 13,
     "metadata": {},
     "output_type": "execute_result"
    }
   ],
   "source": [
    "train.nunique()"
   ]
  },
  {
   "cell_type": "code",
   "execution_count": 14,
   "metadata": {},
   "outputs": [],
   "source": [
    "#SACAR LOS DUPLICADOS Y ENCONTRAR SI SON IGUALES LOS RESULTADOS.\n",
    "#SI ES ASI LO SACAMOS.\n",
    "#TERMINAR CON UNA CONCLUSIÓN"
   ]
  },
  {
   "cell_type": "markdown",
   "metadata": {},
   "source": [
    "#### ¿Existen casos duplicados?"
   ]
  },
  {
   "cell_type": "code",
   "execution_count": 15,
   "metadata": {},
   "outputs": [],
   "source": [
    "duplicados = train[train.duplicated()]"
   ]
  },
  {
   "cell_type": "code",
   "execution_count": 16,
   "metadata": {},
   "outputs": [
    {
     "data": {
      "text/html": [
       "<div>\n",
       "<style scoped>\n",
       "    .dataframe tbody tr th:only-of-type {\n",
       "        vertical-align: middle;\n",
       "    }\n",
       "\n",
       "    .dataframe tbody tr th {\n",
       "        vertical-align: top;\n",
       "    }\n",
       "\n",
       "    .dataframe thead th {\n",
       "        text-align: right;\n",
       "    }\n",
       "</style>\n",
       "<table border=\"1\" class=\"dataframe\">\n",
       "  <thead>\n",
       "    <tr style=\"text-align: right;\">\n",
       "      <th></th>\n",
       "      <th>TARGET</th>\n",
       "      <th>CODIGO</th>\n",
       "      <th>FECHA_STRING</th>\n",
       "      <th>TIPO</th>\n",
       "      <th>USUARIO</th>\n",
       "      <th>COMENTARIO</th>\n",
       "    </tr>\n",
       "  </thead>\n",
       "  <tbody>\n",
       "  </tbody>\n",
       "</table>\n",
       "</div>"
      ],
      "text/plain": [
       "Empty DataFrame\n",
       "Columns: [TARGET, CODIGO, FECHA_STRING, TIPO, USUARIO, COMENTARIO]\n",
       "Index: []"
      ]
     },
     "execution_count": 16,
     "metadata": {},
     "output_type": "execute_result"
    }
   ],
   "source": [
    "duplicados.head()"
   ]
  },
  {
   "cell_type": "code",
   "execution_count": 17,
   "metadata": {},
   "outputs": [],
   "source": [
    "train_sin_duplicados = train.drop_duplicates()"
   ]
  },
  {
   "cell_type": "code",
   "execution_count": 18,
   "metadata": {},
   "outputs": [
    {
     "data": {
      "text/plain": [
       "TARGET                2\n",
       "CODIGO          1598315\n",
       "FECHA_STRING     774363\n",
       "TIPO                  1\n",
       "USUARIO          659775\n",
       "COMENTARIO      1581466\n",
       "dtype: int64"
      ]
     },
     "execution_count": 18,
     "metadata": {},
     "output_type": "execute_result"
    }
   ],
   "source": [
    "train_sin_duplicados.nunique()"
   ]
  },
  {
   "cell_type": "code",
   "execution_count": 19,
   "metadata": {},
   "outputs": [
    {
     "data": {
      "text/html": [
       "<div>\n",
       "<style scoped>\n",
       "    .dataframe tbody tr th:only-of-type {\n",
       "        vertical-align: middle;\n",
       "    }\n",
       "\n",
       "    .dataframe tbody tr th {\n",
       "        vertical-align: top;\n",
       "    }\n",
       "\n",
       "    .dataframe thead th {\n",
       "        text-align: right;\n",
       "    }\n",
       "</style>\n",
       "<table border=\"1\" class=\"dataframe\">\n",
       "  <thead>\n",
       "    <tr style=\"text-align: right;\">\n",
       "      <th></th>\n",
       "      <th>TARGET</th>\n",
       "      <th>CODIGO</th>\n",
       "      <th>FECHA_STRING</th>\n",
       "      <th>TIPO</th>\n",
       "      <th>USUARIO</th>\n",
       "      <th>COMENTARIO</th>\n",
       "    </tr>\n",
       "  </thead>\n",
       "  <tbody>\n",
       "    <tr>\n",
       "      <th>0</th>\n",
       "      <td>0</td>\n",
       "      <td>1467810369</td>\n",
       "      <td>Mon Apr 06 22:19:45 PDT 2009</td>\n",
       "      <td>NO_QUERY</td>\n",
       "      <td>_TheSpecialOne_</td>\n",
       "      <td>@switchfoot http://twitpic.com/2y1zl - Awww, t...</td>\n",
       "    </tr>\n",
       "    <tr>\n",
       "      <th>1</th>\n",
       "      <td>0</td>\n",
       "      <td>1467810672</td>\n",
       "      <td>Mon Apr 06 22:19:49 PDT 2009</td>\n",
       "      <td>NO_QUERY</td>\n",
       "      <td>scotthamilton</td>\n",
       "      <td>is upset that he can't update his Facebook by ...</td>\n",
       "    </tr>\n",
       "    <tr>\n",
       "      <th>2</th>\n",
       "      <td>0</td>\n",
       "      <td>1467810917</td>\n",
       "      <td>Mon Apr 06 22:19:53 PDT 2009</td>\n",
       "      <td>NO_QUERY</td>\n",
       "      <td>mattycus</td>\n",
       "      <td>@Kenichan I dived many times for the ball. Man...</td>\n",
       "    </tr>\n",
       "    <tr>\n",
       "      <th>3</th>\n",
       "      <td>0</td>\n",
       "      <td>1467811184</td>\n",
       "      <td>Mon Apr 06 22:19:57 PDT 2009</td>\n",
       "      <td>NO_QUERY</td>\n",
       "      <td>ElleCTF</td>\n",
       "      <td>my whole body feels itchy and like its on fire</td>\n",
       "    </tr>\n",
       "    <tr>\n",
       "      <th>4</th>\n",
       "      <td>0</td>\n",
       "      <td>1467811193</td>\n",
       "      <td>Mon Apr 06 22:19:57 PDT 2009</td>\n",
       "      <td>NO_QUERY</td>\n",
       "      <td>Karoli</td>\n",
       "      <td>@nationwideclass no, it's not behaving at all....</td>\n",
       "    </tr>\n",
       "  </tbody>\n",
       "</table>\n",
       "</div>"
      ],
      "text/plain": [
       "   TARGET      CODIGO                  FECHA_STRING      TIPO  \\\n",
       "0       0  1467810369  Mon Apr 06 22:19:45 PDT 2009  NO_QUERY   \n",
       "1       0  1467810672  Mon Apr 06 22:19:49 PDT 2009  NO_QUERY   \n",
       "2       0  1467810917  Mon Apr 06 22:19:53 PDT 2009  NO_QUERY   \n",
       "3       0  1467811184  Mon Apr 06 22:19:57 PDT 2009  NO_QUERY   \n",
       "4       0  1467811193  Mon Apr 06 22:19:57 PDT 2009  NO_QUERY   \n",
       "\n",
       "           USUARIO                                         COMENTARIO  \n",
       "0  _TheSpecialOne_  @switchfoot http://twitpic.com/2y1zl - Awww, t...  \n",
       "1    scotthamilton  is upset that he can't update his Facebook by ...  \n",
       "2         mattycus  @Kenichan I dived many times for the ball. Man...  \n",
       "3          ElleCTF    my whole body feels itchy and like its on fire   \n",
       "4           Karoli  @nationwideclass no, it's not behaving at all....  "
      ]
     },
     "execution_count": 19,
     "metadata": {},
     "output_type": "execute_result"
    }
   ],
   "source": [
    "train_sin_duplicados.head()"
   ]
  },
  {
   "cell_type": "code",
   "execution_count": 20,
   "metadata": {},
   "outputs": [],
   "source": [
    "duplicados2 = train[train[['TARGET','COMENTARIO']].duplicated()]"
   ]
  },
  {
   "cell_type": "code",
   "execution_count": 21,
   "metadata": {},
   "outputs": [
    {
     "data": {
      "text/plain": [
       "(16309, 6)"
      ]
     },
     "execution_count": 21,
     "metadata": {},
     "output_type": "execute_result"
    }
   ],
   "source": [
    "duplicados2.shape"
   ]
  },
  {
   "cell_type": "code",
   "execution_count": 22,
   "metadata": {},
   "outputs": [
    {
     "data": {
      "text/plain": [
       "(1600000, 6)"
      ]
     },
     "execution_count": 22,
     "metadata": {},
     "output_type": "execute_result"
    }
   ],
   "source": [
    "train.shape"
   ]
  },
  {
   "cell_type": "code",
   "execution_count": 23,
   "metadata": {},
   "outputs": [],
   "source": [
    "duplicados2.to_csv('duplicados.csv', index=False)"
   ]
  },
  {
   "cell_type": "code",
   "execution_count": 24,
   "metadata": {},
   "outputs": [
    {
     "data": {
      "text/html": [
       "<div>\n",
       "<style scoped>\n",
       "    .dataframe tbody tr th:only-of-type {\n",
       "        vertical-align: middle;\n",
       "    }\n",
       "\n",
       "    .dataframe tbody tr th {\n",
       "        vertical-align: top;\n",
       "    }\n",
       "\n",
       "    .dataframe thead th {\n",
       "        text-align: right;\n",
       "    }\n",
       "</style>\n",
       "<table border=\"1\" class=\"dataframe\">\n",
       "  <thead>\n",
       "    <tr style=\"text-align: right;\">\n",
       "      <th></th>\n",
       "      <th>CODIGO</th>\n",
       "      <th>FECHA_STRING</th>\n",
       "      <th>TIPO</th>\n",
       "      <th>USUARIO</th>\n",
       "      <th>COMENTARIO</th>\n",
       "    </tr>\n",
       "    <tr>\n",
       "      <th>TARGET</th>\n",
       "      <th></th>\n",
       "      <th></th>\n",
       "      <th></th>\n",
       "      <th></th>\n",
       "      <th></th>\n",
       "    </tr>\n",
       "  </thead>\n",
       "  <tbody>\n",
       "    <tr>\n",
       "      <th>0</th>\n",
       "      <td>9815</td>\n",
       "      <td>9815</td>\n",
       "      <td>9815</td>\n",
       "      <td>9815</td>\n",
       "      <td>9815</td>\n",
       "    </tr>\n",
       "    <tr>\n",
       "      <th>4</th>\n",
       "      <td>6494</td>\n",
       "      <td>6494</td>\n",
       "      <td>6494</td>\n",
       "      <td>6494</td>\n",
       "      <td>6494</td>\n",
       "    </tr>\n",
       "  </tbody>\n",
       "</table>\n",
       "</div>"
      ],
      "text/plain": [
       "        CODIGO  FECHA_STRING  TIPO  USUARIO  COMENTARIO\n",
       "TARGET                                                 \n",
       "0         9815          9815  9815     9815        9815\n",
       "4         6494          6494  6494     6494        6494"
      ]
     },
     "execution_count": 24,
     "metadata": {},
     "output_type": "execute_result"
    }
   ],
   "source": [
    "duplicados2.groupby('TARGET').count()"
   ]
  },
  {
   "cell_type": "code",
   "execution_count": 25,
   "metadata": {},
   "outputs": [],
   "source": [
    "train_sin_duplicados2 = train[['TARGET','COMENTARIO']].drop_duplicates()"
   ]
  },
  {
   "cell_type": "code",
   "execution_count": 26,
   "metadata": {},
   "outputs": [
    {
     "data": {
      "text/plain": [
       "(1583691, 2)"
      ]
     },
     "execution_count": 26,
     "metadata": {},
     "output_type": "execute_result"
    }
   ],
   "source": [
    "train_sin_duplicados2.shape"
   ]
  },
  {
   "cell_type": "code",
   "execution_count": 27,
   "metadata": {},
   "outputs": [
    {
     "data": {
      "text/html": [
       "<div>\n",
       "<style scoped>\n",
       "    .dataframe tbody tr th:only-of-type {\n",
       "        vertical-align: middle;\n",
       "    }\n",
       "\n",
       "    .dataframe tbody tr th {\n",
       "        vertical-align: top;\n",
       "    }\n",
       "\n",
       "    .dataframe thead th {\n",
       "        text-align: right;\n",
       "    }\n",
       "</style>\n",
       "<table border=\"1\" class=\"dataframe\">\n",
       "  <thead>\n",
       "    <tr style=\"text-align: right;\">\n",
       "      <th></th>\n",
       "      <th>TARGET</th>\n",
       "      <th>COMENTARIO</th>\n",
       "    </tr>\n",
       "  </thead>\n",
       "  <tbody>\n",
       "    <tr>\n",
       "      <th>0</th>\n",
       "      <td>0</td>\n",
       "      <td>@switchfoot http://twitpic.com/2y1zl - Awww, t...</td>\n",
       "    </tr>\n",
       "    <tr>\n",
       "      <th>1</th>\n",
       "      <td>0</td>\n",
       "      <td>is upset that he can't update his Facebook by ...</td>\n",
       "    </tr>\n",
       "    <tr>\n",
       "      <th>2</th>\n",
       "      <td>0</td>\n",
       "      <td>@Kenichan I dived many times for the ball. Man...</td>\n",
       "    </tr>\n",
       "    <tr>\n",
       "      <th>3</th>\n",
       "      <td>0</td>\n",
       "      <td>my whole body feels itchy and like its on fire</td>\n",
       "    </tr>\n",
       "    <tr>\n",
       "      <th>4</th>\n",
       "      <td>0</td>\n",
       "      <td>@nationwideclass no, it's not behaving at all....</td>\n",
       "    </tr>\n",
       "  </tbody>\n",
       "</table>\n",
       "</div>"
      ],
      "text/plain": [
       "   TARGET                                         COMENTARIO\n",
       "0       0  @switchfoot http://twitpic.com/2y1zl - Awww, t...\n",
       "1       0  is upset that he can't update his Facebook by ...\n",
       "2       0  @Kenichan I dived many times for the ball. Man...\n",
       "3       0    my whole body feels itchy and like its on fire \n",
       "4       0  @nationwideclass no, it's not behaving at all...."
      ]
     },
     "execution_count": 27,
     "metadata": {},
     "output_type": "execute_result"
    }
   ],
   "source": [
    "train_sin_duplicados2.head()"
   ]
  },
  {
   "cell_type": "code",
   "execution_count": 28,
   "metadata": {},
   "outputs": [
    {
     "data": {
      "text/plain": [
       "array([0, 4], dtype=int64)"
      ]
     },
     "execution_count": 28,
     "metadata": {},
     "output_type": "execute_result"
    }
   ],
   "source": [
    "train['TARGET'].unique()"
   ]
  },
  {
   "cell_type": "code",
   "execution_count": 29,
   "metadata": {},
   "outputs": [
    {
     "data": {
      "text/plain": [
       "array(['NO_QUERY'], dtype=object)"
      ]
     },
     "execution_count": 29,
     "metadata": {},
     "output_type": "execute_result"
    }
   ],
   "source": [
    "train['TIPO'].unique()"
   ]
  },
  {
   "cell_type": "code",
   "execution_count": 30,
   "metadata": {},
   "outputs": [],
   "source": [
    "#prueba del modelo con 0,2 y 0,2,4"
   ]
  },
  {
   "cell_type": "code",
   "execution_count": 31,
   "metadata": {},
   "outputs": [
    {
     "data": {
      "text/html": [
       "<div>\n",
       "<style scoped>\n",
       "    .dataframe tbody tr th:only-of-type {\n",
       "        vertical-align: middle;\n",
       "    }\n",
       "\n",
       "    .dataframe tbody tr th {\n",
       "        vertical-align: top;\n",
       "    }\n",
       "\n",
       "    .dataframe thead th {\n",
       "        text-align: right;\n",
       "    }\n",
       "</style>\n",
       "<table border=\"1\" class=\"dataframe\">\n",
       "  <thead>\n",
       "    <tr style=\"text-align: right;\">\n",
       "      <th></th>\n",
       "      <th>COMENTARIO</th>\n",
       "    </tr>\n",
       "    <tr>\n",
       "      <th>TARGET</th>\n",
       "      <th></th>\n",
       "    </tr>\n",
       "  </thead>\n",
       "  <tbody>\n",
       "    <tr>\n",
       "      <th>0</th>\n",
       "      <td>790185</td>\n",
       "    </tr>\n",
       "    <tr>\n",
       "      <th>4</th>\n",
       "      <td>793506</td>\n",
       "    </tr>\n",
       "  </tbody>\n",
       "</table>\n",
       "</div>"
      ],
      "text/plain": [
       "        COMENTARIO\n",
       "TARGET            \n",
       "0           790185\n",
       "4           793506"
      ]
     },
     "execution_count": 31,
     "metadata": {},
     "output_type": "execute_result"
    }
   ],
   "source": [
    "train_sin_duplicados2.groupby('TARGET').count()"
   ]
  },
  {
   "cell_type": "markdown",
   "metadata": {},
   "source": [
    "#### ¿La Data está Balanceada?"
   ]
  },
  {
   "cell_type": "code",
   "execution_count": 32,
   "metadata": {},
   "outputs": [
    {
     "data": {
      "text/plain": [
       "TARGET\n",
       "0    800000\n",
       "4    800000\n",
       "Name: count, dtype: int64"
      ]
     },
     "execution_count": 32,
     "metadata": {},
     "output_type": "execute_result"
    }
   ],
   "source": [
    "train.TARGET.value_counts()"
   ]
  },
  {
   "cell_type": "code",
   "execution_count": 33,
   "metadata": {},
   "outputs": [],
   "source": [
    "#ventaja: esto reduce los problemas a futuro."
   ]
  },
  {
   "cell_type": "code",
   "execution_count": 34,
   "metadata": {},
   "outputs": [],
   "source": [
    "train_f = train_sin_duplicados[['TARGET','FECHA_STRING','COMENTARIO']]"
   ]
  },
  {
   "cell_type": "code",
   "execution_count": 36,
   "metadata": {},
   "outputs": [
    {
     "name": "stderr",
     "output_type": "stream",
     "text": [
      "C:\\Users\\usuario\\anaconda3\\envs\\antonio\\Lib\\site-packages\\seaborn\\_oldcore.py:1498: FutureWarning: is_categorical_dtype is deprecated and will be removed in a future version. Use isinstance(dtype, CategoricalDtype) instead\n",
      "  if pd.api.types.is_categorical_dtype(vector):\n",
      "C:\\Users\\usuario\\AppData\\Local\\Temp\\ipykernel_14204\\3838241470.py:5: UserWarning: Ignoring `palette` because no `hue` variable has been assigned.\n",
      "  sns.histplot(train_f.TARGET, palette='Spectral')\n",
      "C:\\Users\\usuario\\anaconda3\\envs\\antonio\\Lib\\site-packages\\seaborn\\_oldcore.py:1119: FutureWarning: use_inf_as_na option is deprecated and will be removed in a future version. Convert inf values to NaN before operating instead.\n",
      "  with pd.option_context('mode.use_inf_as_na', True):\n"
     ]
    },
    {
     "data": {
      "text/plain": [
       "Text(0.5, 1.0, 'Distribución de clases')"
      ]
     },
     "execution_count": 36,
     "metadata": {},
     "output_type": "execute_result"
    },
    {
     "data": {
      "image/png": "[encoded data removed]",
      "text/plain": [
       "<Figure size 1000x500 with 1 Axes>"
      ]
     },
     "metadata": {},
     "output_type": "display_data"
    }
   ],
   "source": [
    "import matplotlib.pyplot as plt\n",
    "import seaborn as sns\n",
    "\n",
    "plt.figure(figsize=(10, 5))\n",
    "sns.histplot(train_f.TARGET, palette='Spectral')\n",
    "plt.xlabel('Clases')\n",
    "plt.title('Distribución de clases')"
   ]
  },
  {
   "cell_type": "markdown",
   "metadata": {},
   "source": [
    "El Dataset de train está completamente balanceado, esto genera ventajas ya que nuestros datos estan completos y es muy bueno para hacer el training"
   ]
  },
  {
   "cell_type": "markdown",
   "metadata": {},
   "source": [
    "### Analisis univariable"
   ]
  },
  {
   "cell_type": "markdown",
   "metadata": {},
   "source": [
    "#### Distribución en el tiempo"
   ]
  },
  {
   "cell_type": "code",
   "execution_count": 37,
   "metadata": {},
   "outputs": [],
   "source": [
    "train_1k = train_f.sample(n=300000, random_state=42).copy()"
   ]
  },
  {
   "cell_type": "code",
   "execution_count": 38,
   "metadata": {},
   "outputs": [
    {
     "data": {
      "text/html": [
       "<div>\n",
       "<style scoped>\n",
       "    .dataframe tbody tr th:only-of-type {\n",
       "        vertical-align: middle;\n",
       "    }\n",
       "\n",
       "    .dataframe tbody tr th {\n",
       "        vertical-align: top;\n",
       "    }\n",
       "\n",
       "    .dataframe thead th {\n",
       "        text-align: right;\n",
       "    }\n",
       "</style>\n",
       "<table border=\"1\" class=\"dataframe\">\n",
       "  <thead>\n",
       "    <tr style=\"text-align: right;\">\n",
       "      <th></th>\n",
       "      <th>TARGET</th>\n",
       "      <th>FECHA_STRING</th>\n",
       "      <th>COMENTARIO</th>\n",
       "    </tr>\n",
       "  </thead>\n",
       "  <tbody>\n",
       "    <tr>\n",
       "      <th>541200</th>\n",
       "      <td>0</td>\n",
       "      <td>Tue Jun 16 18:18:12 PDT 2009</td>\n",
       "      <td>@chrishasboobs AHHH I HOPE YOUR OK!!!</td>\n",
       "    </tr>\n",
       "    <tr>\n",
       "      <th>750</th>\n",
       "      <td>0</td>\n",
       "      <td>Mon Apr 06 23:11:14 PDT 2009</td>\n",
       "      <td>@misstoriblack cool , i have no tweet apps  fo...</td>\n",
       "    </tr>\n",
       "    <tr>\n",
       "      <th>766711</th>\n",
       "      <td>0</td>\n",
       "      <td>Tue Jun 23 13:40:11 PDT 2009</td>\n",
       "      <td>@TiannaChaos i know  just family drama. its la...</td>\n",
       "    </tr>\n",
       "    <tr>\n",
       "      <th>285055</th>\n",
       "      <td>0</td>\n",
       "      <td>Mon Jun 01 10:26:07 PDT 2009</td>\n",
       "      <td>School email won't open  and I have geography ...</td>\n",
       "    </tr>\n",
       "    <tr>\n",
       "      <th>705995</th>\n",
       "      <td>0</td>\n",
       "      <td>Sat Jun 20 12:56:51 PDT 2009</td>\n",
       "      <td>upper airways problem</td>\n",
       "    </tr>\n",
       "  </tbody>\n",
       "</table>\n",
       "</div>"
      ],
      "text/plain": [
       "        TARGET                  FECHA_STRING  \\\n",
       "541200       0  Tue Jun 16 18:18:12 PDT 2009   \n",
       "750          0  Mon Apr 06 23:11:14 PDT 2009   \n",
       "766711       0  Tue Jun 23 13:40:11 PDT 2009   \n",
       "285055       0  Mon Jun 01 10:26:07 PDT 2009   \n",
       "705995       0  Sat Jun 20 12:56:51 PDT 2009   \n",
       "\n",
       "                                               COMENTARIO  \n",
       "541200             @chrishasboobs AHHH I HOPE YOUR OK!!!   \n",
       "750     @misstoriblack cool , i have no tweet apps  fo...  \n",
       "766711  @TiannaChaos i know  just family drama. its la...  \n",
       "285055  School email won't open  and I have geography ...  \n",
       "705995                             upper airways problem   "
      ]
     },
     "execution_count": 38,
     "metadata": {},
     "output_type": "execute_result"
    }
   ],
   "source": [
    "train_1k.head()"
   ]
  },
  {
   "cell_type": "code",
   "execution_count": 39,
   "metadata": {},
   "outputs": [],
   "source": [
    "#train_1k[\"FECHA_HORA\"] = pd.to_datetime(train_1k[\"FECHA_STRING\"])\n",
    "# Crea columnas separadas para fecha y hora\n",
    "#train_1k['FECHA'] = train_1k['FECHA_HORA'].dt.date\n",
    "#train_1k['HORA'] = train_1k['FECHA_HORA'].dt.time  "
   ]
  },
  {
   "cell_type": "code",
   "execution_count": 40,
   "metadata": {},
   "outputs": [],
   "source": [
    "def to_datetime(df, cols= [] ):\n",
    "    for col in cols:   \n",
    "        df[col] = pd.to_datetime(df[col])\n",
    "        df[f'FECHA'] = df[col].dt.date\n",
    "        df[f'HORA'] = df[col].dt.time \n",
    "    return df"
   ]
  },
  {
   "cell_type": "code",
   "execution_count": 41,
   "metadata": {},
   "outputs": [
    {
     "name": "stderr",
     "output_type": "stream",
     "text": [
      "C:\\Users\\usuario\\AppData\\Local\\Temp\\ipykernel_14204\\2542664120.py:3: FutureWarning: Parsed string \"Tue Jun 16 18:18:12 PDT 2009\" included an un-recognized timezone \"PDT\". Dropping unrecognized timezones is deprecated; in a future version this will raise. Instead pass the string without the timezone, then use .tz_localize to convert to a recognized timezone.\n",
      "  df[col] = pd.to_datetime(df[col])\n"
     ]
    }
   ],
   "source": [
    "#Aplicar la función\n",
    "train_1k = to_datetime(train_1k, cols=['FECHA_STRING'])"
   ]
  },
  {
   "cell_type": "code",
   "execution_count": 42,
   "metadata": {},
   "outputs": [
    {
     "data": {
      "image/png": "[encoded data removed]",
      "text/plain": [
       "<Figure size 1000x500 with 1 Axes>"
      ]
     },
     "metadata": {},
     "output_type": "display_data"
    }
   ],
   "source": [
    "train_1k_agrupado = train_1k.groupby('FECHA').size().to_frame(\"count\").reset_index()\n",
    "fig, axes = plt.subplots(1, 1, figsize=(10, 5))\n",
    "train_1k_agrupado.plot(kind='bar', x='FECHA',y='count', ax = axes)\n",
    "plt.show()"
   ]
  },
  {
   "cell_type": "markdown",
   "metadata": {},
   "source": [
    "#### Número de token antes de la limpieza"
   ]
  },
  {
   "cell_type": "code",
   "execution_count": 53,
   "metadata": {},
   "outputs": [],
   "source": [
    "#from nltk.tokenize import TweetTokenizer"
   ]
  },
  {
   "cell_type": "code",
   "execution_count": 40,
   "metadata": {},
   "outputs": [
    {
     "data": {
      "text/plain": [
       "'C:\\\\Users\\\\Alberto Navarro\\\\AppData\\\\Local\\\\Packages\\\\PythonSoftwareFoundation.Python.3.10_qbz5n2kfra8p0\\\\LocalCache\\\\local-packages\\\\Python310\\\\site-packages\\\\pandas\\\\__init__.py'"
      ]
     },
     "execution_count": 40,
     "metadata": {},
     "output_type": "execute_result"
    }
   ],
   "source": [
    "pd.__file__"
   ]
  },
  {
   "cell_type": "code",
   "execution_count": 42,
   "metadata": {},
   "outputs": [
    {
     "name": "stdout",
     "output_type": "stream",
     "text": [
      "Name: pandas\n",
      "Version: 2.1.0\n",
      "Summary: Powerful data structures for data analysis, time series, and statistics\n",
      "Home-page: https://pandas.pydata.org\n",
      "Author: \n",
      "Author-email: The Pandas Development Team <pandas-dev@python.org>\n",
      "License: BSD 3-Clause License\n",
      "        \n",
      "        Copyright (c) 2008-2011, AQR Capital Management, LLC, Lambda Foundry, Inc. and PyData Development Team\n",
      "        All rights reserved.\n",
      "        \n",
      "        Copyright (c) 2011-2023, Open source contributors.\n",
      "        \n",
      "        Redistribution and use in source and binary forms, with or without\n",
      "        modification, are permitted provided that the following conditions are met:\n",
      "        \n",
      "        * Redistributions of source code must retain the above copyright notice, this\n",
      "          list of conditions and the following disclaimer.\n",
      "        \n",
      "        * Redistributions in binary form must reproduce the above copyright notice,\n",
      "          this list of conditions and the following disclaimer in the documentation\n",
      "          and/or other materials provided with the distribution.\n",
      "        \n",
      "        * Neither the name of the copyright holder nor the names of its\n",
      "          contributors may be used to endorse or promote products derived from\n",
      "          this software without specific prior written permission.\n",
      "        \n",
      "        THIS SOFTWARE IS PROVIDED BY THE COPYRIGHT HOLDERS AND CONTRIBUTORS \"AS IS\"\n",
      "        AND ANY EXPRESS OR IMPLIED WARRANTIES, INCLUDING, BUT NOT LIMITED TO, THE\n",
      "        IMPLIED WARRANTIES OF MERCHANTABILITY AND FITNESS FOR A PARTICULAR PURPOSE ARE\n",
      "        DISCLAIMED. IN NO EVENT SHALL THE COPYRIGHT HOLDER OR CONTRIBUTORS BE LIABLE\n",
      "        FOR ANY DIRECT, INDIRECT, INCIDENTAL, SPECIAL, EXEMPLARY, OR CONSEQUENTIAL\n",
      "        DAMAGES (INCLUDING, BUT NOT LIMITED TO, PROCUREMENT OF SUBSTITUTE GOODS OR\n",
      "        SERVICES; LOSS OF USE, DATA, OR PROFITS; OR BUSINESS INTERRUPTION) HOWEVER\n",
      "        CAUSED AND ON ANY THEORY OF LIABILITY, WHETHER IN CONTRACT, STRICT LIABILITY,\n",
      "        OR TORT (INCLUDING NEGLIGENCE OR OTHERWISE) ARISING IN ANY WAY OUT OF THE USE\n",
      "        OF THIS SOFTWARE, EVEN IF ADVISED OF THE POSSIBILITY OF SUCH DAMAGE.\n",
      "Location: c:\\users\\alberto navarro\\appdata\\local\\packages\\pythonsoftwarefoundation.python.3.10_qbz5n2kfra8p0\\localcache\\local-packages\\python310\\site-packages\n",
      "Requires: numpy, python-dateutil, pytz, tzdata\n",
      "Required-by: seaborn\n",
      "Note: you may need to restart the kernel to use updated packages.\n"
     ]
    }
   ],
   "source": [
    "#pip show pandas"
   ]
  },
  {
   "cell_type": "code",
   "execution_count": 44,
   "metadata": {},
   "outputs": [
    {
     "name": "stderr",
     "output_type": "stream",
     "text": [
      "C:\\Users\\usuario\\anaconda3\\envs\\antonio\\Lib\\site-packages\\tqdm\\auto.py:21: TqdmWarning: IProgress not found. Please update jupyter and ipywidgets. See https://ipywidgets.readthedocs.io/en/stable/user_install.html\n",
      "  from .autonotebook import tqdm as notebook_tqdm\n",
      "None of PyTorch, TensorFlow >= 2.0, or Flax have been found. Models won't be available and only tokenizers, configuration and file/data utilities can be used.\n"
     ]
    }
   ],
   "source": [
    "from transformers import pipeline"
   ]
  },
  {
   "cell_type": "code",
   "execution_count": 46,
   "metadata": {},
   "outputs": [],
   "source": [
    "#pip uninstall nltk\n",
    "#pip install -U nltk\n",
    "import nltk"
   ]
  },
  {
   "cell_type": "code",
   "execution_count": 47,
   "metadata": {},
   "outputs": [
    {
     "name": "stderr",
     "output_type": "stream",
     "text": [
      "C:\\Users\\usuario\\anaconda3\\envs\\antonio\\Lib\\site-packages\\seaborn\\_oldcore.py:1498: FutureWarning: is_categorical_dtype is deprecated and will be removed in a future version. Use isinstance(dtype, CategoricalDtype) instead\n",
      "  if pd.api.types.is_categorical_dtype(vector):\n",
      "C:\\Users\\usuario\\anaconda3\\envs\\antonio\\Lib\\site-packages\\seaborn\\_oldcore.py:1119: FutureWarning: use_inf_as_na option is deprecated and will be removed in a future version. Convert inf values to NaN before operating instead.\n",
      "  with pd.option_context('mode.use_inf_as_na', True):\n"
     ]
    },
    {
     "data": {
      "image/png": "[encoded data removed]",
      "text/plain": [
       "<Figure size 1000x500 with 1 Axes>"
      ]
     },
     "metadata": {},
     "output_type": "display_data"
    }
   ],
   "source": [
    "import matplotlib.pyplot as plt\n",
    "import seaborn as sns\n",
    "from nltk.tokenize import TweetTokenizer\n",
    "#Grafico de histograma de numero de tokens por sentencia.\n",
    "train_ac = train_1k.copy()\n",
    "\n",
    "tknz = TweetTokenizer(preserve_case=False)\n",
    "size_texts_list = [len(tknz.tokenize(text)) for text in train_ac.COMENTARIO]\n",
    "plt.figure(figsize=(10,5))\n",
    "sns.histplot(size_texts_list, bins=50)\n",
    "plt.title('Número de tokens')\n",
    "plt.show()"
   ]
  },
  {
   "cell_type": "code",
   "execution_count": 48,
   "metadata": {},
   "outputs": [
    {
     "data": {
      "text/html": [
       "<div>\n",
       "<style scoped>\n",
       "    .dataframe tbody tr th:only-of-type {\n",
       "        vertical-align: middle;\n",
       "    }\n",
       "\n",
       "    .dataframe tbody tr th {\n",
       "        vertical-align: top;\n",
       "    }\n",
       "\n",
       "    .dataframe thead th {\n",
       "        text-align: right;\n",
       "    }\n",
       "</style>\n",
       "<table border=\"1\" class=\"dataframe\">\n",
       "  <thead>\n",
       "    <tr style=\"text-align: right;\">\n",
       "      <th></th>\n",
       "      <th>TARGET</th>\n",
       "      <th>FECHA_STRING</th>\n",
       "      <th>COMENTARIO</th>\n",
       "      <th>FECHA</th>\n",
       "      <th>HORA</th>\n",
       "    </tr>\n",
       "  </thead>\n",
       "  <tbody>\n",
       "    <tr>\n",
       "      <th>541200</th>\n",
       "      <td>0</td>\n",
       "      <td>2009-06-16 18:18:12</td>\n",
       "      <td>@chrishasboobs AHHH I HOPE YOUR OK!!!</td>\n",
       "      <td>2009-06-16</td>\n",
       "      <td>18:18:12</td>\n",
       "    </tr>\n",
       "    <tr>\n",
       "      <th>750</th>\n",
       "      <td>0</td>\n",
       "      <td>2009-04-06 23:11:14</td>\n",
       "      <td>@misstoriblack cool , i have no tweet apps  fo...</td>\n",
       "      <td>2009-04-06</td>\n",
       "      <td>23:11:14</td>\n",
       "    </tr>\n",
       "    <tr>\n",
       "      <th>766711</th>\n",
       "      <td>0</td>\n",
       "      <td>2009-06-23 13:40:11</td>\n",
       "      <td>@TiannaChaos i know  just family drama. its la...</td>\n",
       "      <td>2009-06-23</td>\n",
       "      <td>13:40:11</td>\n",
       "    </tr>\n",
       "    <tr>\n",
       "      <th>285055</th>\n",
       "      <td>0</td>\n",
       "      <td>2009-06-01 10:26:07</td>\n",
       "      <td>School email won't open  and I have geography ...</td>\n",
       "      <td>2009-06-01</td>\n",
       "      <td>10:26:07</td>\n",
       "    </tr>\n",
       "    <tr>\n",
       "      <th>705995</th>\n",
       "      <td>0</td>\n",
       "      <td>2009-06-20 12:56:51</td>\n",
       "      <td>upper airways problem</td>\n",
       "      <td>2009-06-20</td>\n",
       "      <td>12:56:51</td>\n",
       "    </tr>\n",
       "  </tbody>\n",
       "</table>\n",
       "</div>"
      ],
      "text/plain": [
       "        TARGET        FECHA_STRING  \\\n",
       "541200       0 2009-06-16 18:18:12   \n",
       "750          0 2009-04-06 23:11:14   \n",
       "766711       0 2009-06-23 13:40:11   \n",
       "285055       0 2009-06-01 10:26:07   \n",
       "705995       0 2009-06-20 12:56:51   \n",
       "\n",
       "                                               COMENTARIO       FECHA  \\\n",
       "541200             @chrishasboobs AHHH I HOPE YOUR OK!!!   2009-06-16   \n",
       "750     @misstoriblack cool , i have no tweet apps  fo...  2009-04-06   \n",
       "766711  @TiannaChaos i know  just family drama. its la...  2009-06-23   \n",
       "285055  School email won't open  and I have geography ...  2009-06-01   \n",
       "705995                             upper airways problem   2009-06-20   \n",
       "\n",
       "            HORA  \n",
       "541200  18:18:12  \n",
       "750     23:11:14  \n",
       "766711  13:40:11  \n",
       "285055  10:26:07  \n",
       "705995  12:56:51  "
      ]
     },
     "execution_count": 48,
     "metadata": {},
     "output_type": "execute_result"
    }
   ],
   "source": [
    "train_ac.head()"
   ]
  },
  {
   "cell_type": "markdown",
   "metadata": {},
   "source": [
    "#### Crear Dataset para la limpieza de datos y luego compararlo con el original"
   ]
  },
  {
   "cell_type": "code",
   "execution_count": 49,
   "metadata": {},
   "outputs": [],
   "source": [
    "train_dc = train_1k.copy()"
   ]
  },
  {
   "cell_type": "code",
   "execution_count": 50,
   "metadata": {},
   "outputs": [
    {
     "data": {
      "text/html": [
       "<div>\n",
       "<style scoped>\n",
       "    .dataframe tbody tr th:only-of-type {\n",
       "        vertical-align: middle;\n",
       "    }\n",
       "\n",
       "    .dataframe tbody tr th {\n",
       "        vertical-align: top;\n",
       "    }\n",
       "\n",
       "    .dataframe thead th {\n",
       "        text-align: right;\n",
       "    }\n",
       "</style>\n",
       "<table border=\"1\" class=\"dataframe\">\n",
       "  <thead>\n",
       "    <tr style=\"text-align: right;\">\n",
       "      <th></th>\n",
       "      <th>TARGET</th>\n",
       "      <th>FECHA_STRING</th>\n",
       "      <th>COMENTARIO</th>\n",
       "      <th>FECHA</th>\n",
       "      <th>HORA</th>\n",
       "    </tr>\n",
       "  </thead>\n",
       "  <tbody>\n",
       "    <tr>\n",
       "      <th>541200</th>\n",
       "      <td>0</td>\n",
       "      <td>2009-06-16 18:18:12</td>\n",
       "      <td>@chrishasboobs AHHH I HOPE YOUR OK!!!</td>\n",
       "      <td>2009-06-16</td>\n",
       "      <td>18:18:12</td>\n",
       "    </tr>\n",
       "    <tr>\n",
       "      <th>750</th>\n",
       "      <td>0</td>\n",
       "      <td>2009-04-06 23:11:14</td>\n",
       "      <td>@misstoriblack cool , i have no tweet apps  fo...</td>\n",
       "      <td>2009-04-06</td>\n",
       "      <td>23:11:14</td>\n",
       "    </tr>\n",
       "    <tr>\n",
       "      <th>766711</th>\n",
       "      <td>0</td>\n",
       "      <td>2009-06-23 13:40:11</td>\n",
       "      <td>@TiannaChaos i know  just family drama. its la...</td>\n",
       "      <td>2009-06-23</td>\n",
       "      <td>13:40:11</td>\n",
       "    </tr>\n",
       "    <tr>\n",
       "      <th>285055</th>\n",
       "      <td>0</td>\n",
       "      <td>2009-06-01 10:26:07</td>\n",
       "      <td>School email won't open  and I have geography ...</td>\n",
       "      <td>2009-06-01</td>\n",
       "      <td>10:26:07</td>\n",
       "    </tr>\n",
       "    <tr>\n",
       "      <th>705995</th>\n",
       "      <td>0</td>\n",
       "      <td>2009-06-20 12:56:51</td>\n",
       "      <td>upper airways problem</td>\n",
       "      <td>2009-06-20</td>\n",
       "      <td>12:56:51</td>\n",
       "    </tr>\n",
       "  </tbody>\n",
       "</table>\n",
       "</div>"
      ],
      "text/plain": [
       "        TARGET        FECHA_STRING  \\\n",
       "541200       0 2009-06-16 18:18:12   \n",
       "750          0 2009-04-06 23:11:14   \n",
       "766711       0 2009-06-23 13:40:11   \n",
       "285055       0 2009-06-01 10:26:07   \n",
       "705995       0 2009-06-20 12:56:51   \n",
       "\n",
       "                                               COMENTARIO       FECHA  \\\n",
       "541200             @chrishasboobs AHHH I HOPE YOUR OK!!!   2009-06-16   \n",
       "750     @misstoriblack cool , i have no tweet apps  fo...  2009-04-06   \n",
       "766711  @TiannaChaos i know  just family drama. its la...  2009-06-23   \n",
       "285055  School email won't open  and I have geography ...  2009-06-01   \n",
       "705995                             upper airways problem   2009-06-20   \n",
       "\n",
       "            HORA  \n",
       "541200  18:18:12  \n",
       "750     23:11:14  \n",
       "766711  13:40:11  \n",
       "285055  10:26:07  \n",
       "705995  12:56:51  "
      ]
     },
     "execution_count": 50,
     "metadata": {},
     "output_type": "execute_result"
    }
   ],
   "source": [
    "train_dc.head()"
   ]
  },
  {
   "cell_type": "markdown",
   "metadata": {},
   "source": [
    "#### Limpieza de datos"
   ]
  },
  {
   "cell_type": "code",
   "execution_count": 61,
   "metadata": {},
   "outputs": [],
   "source": [
    "#def remove_urls(text):\n",
    "    # Expresión regular para identificar URLs\n",
    " #   url_pattern = re.compile(r'https?://\\S+|www\\.\\S+')\n",
    "  #  return url_pattern.sub(r'', text)"
   ]
  },
  {
   "cell_type": "code",
   "execution_count": 62,
   "metadata": {},
   "outputs": [],
   "source": [
    "# Aplicar la función a la columna 'tweet'\n",
    "#import re\n",
    "\n",
    "#train_dc['COMENTARIO_SIN_URL'] = train_dc['COMENTARIO'].apply(remove_urls)"
   ]
  },
  {
   "cell_type": "code",
   "execution_count": 51,
   "metadata": {},
   "outputs": [],
   "source": [
    "def clean_tweets(text, remove_punctuacion=True,   remove_retweets=True, remove_mentions=True,\n",
    "                remove_hashtags=False, remove_urls=True, remove_at=True, remove_pad=True, remove_numbers=False):\n",
    "    if remove_punctuacion:\n",
    "        text = re.compile('\\r').sub(' ', text)\n",
    "        text = re.compile('\\n').sub(' ', text)\n",
    "        text = re.compile('\"').sub('', text)\n",
    "        text = re.compile(r'[^\\w\\s!]+').sub('', text)#Remover signo de interrogación\n",
    "        text = re.compile('&quot;').sub('', text)\n",
    "        text = re.compile('[+-]').sub('', text)\n",
    "        text = re.compile(r'<[\\w_]+').sub('', text)\n",
    "        text = re.compile(r'>').sub(' ', text)\n",
    "        \n",
    "        punctuation = '¡!$%&*+<=>[\\\\]^_`{|}~•'\n",
    "        text = re.sub(f'[{punctuation}]+', ' ', text)\n",
    "        dots = '\\.{2,}'\n",
    "        text = re.sub(f'({dots})+', '.', text)\n",
    "        text = re.sub('\\s+', ' ', text)#remover doble espacio\n",
    "        \n",
    "        \n",
    "        #text = remove_emoji(text) if remove_emojis else text #Remove emojis\n",
    "        text = re.compile(r'RT @[A-Za-z0-9_-]+:').sub('', text) if remove_retweets else text #Remove retweets\n",
    "        text = re.compile(r'@[A-Za-z0-9_-]+').sub('', text) if remove_mentions else text #Remove mentions\n",
    "        text = re.compile(r'#[A-Za-z0-9_-]+').sub('', text) if remove_hashtags else text #Remove hashtags \n",
    "        text = re.compile(\n",
    "    r\"(?i)\\b((?:https?://|www\\d{0,3}[.]|[a-z0-9.\\-]+[.][a-z]{2,4}/)(?:[^\\s()<>]+|\\(([^\\s()<>]+|(\\([^\\s()<>]+\\)))*\\))+(?:\\(([^\\s()<>]+|(\\([^\\s()<>]+\\)))*\\)|[^\\s`!()\\[\\]{};:'\\\".,<>?«»“”‘’]))\") \\\n",
    "    .sub('', text) if remove_urls else text #Remove URL\n",
    "        \n",
    "        text = re.compile(r'(?:@)').sub('', text) if remove_at else text #Remove @\n",
    "        text = re.compile(r'(?:#)').sub('', text) if remove_pad else text #Remove #\n",
    "        text = re.sub('([0-9]+)', '', text) if remove_numbers else text #Remove numbers\n",
    "        \n",
    "        return text"
   ]
  },
  {
   "cell_type": "code",
   "execution_count": 52,
   "metadata": {},
   "outputs": [],
   "source": [
    "import re\n",
    "train_dc[\"COMENTARIO_LIMPIO\"]=train_dc[\"COMENTARIO\"].apply(clean_tweets)"
   ]
  },
  {
   "cell_type": "code",
   "execution_count": 53,
   "metadata": {},
   "outputs": [
    {
     "data": {
      "text/html": [
       "<div>\n",
       "<style scoped>\n",
       "    .dataframe tbody tr th:only-of-type {\n",
       "        vertical-align: middle;\n",
       "    }\n",
       "\n",
       "    .dataframe tbody tr th {\n",
       "        vertical-align: top;\n",
       "    }\n",
       "\n",
       "    .dataframe thead th {\n",
       "        text-align: right;\n",
       "    }\n",
       "</style>\n",
       "<table border=\"1\" class=\"dataframe\">\n",
       "  <thead>\n",
       "    <tr style=\"text-align: right;\">\n",
       "      <th></th>\n",
       "      <th>TARGET</th>\n",
       "      <th>FECHA_STRING</th>\n",
       "      <th>COMENTARIO</th>\n",
       "      <th>FECHA</th>\n",
       "      <th>HORA</th>\n",
       "      <th>COMENTARIO_LIMPIO</th>\n",
       "    </tr>\n",
       "  </thead>\n",
       "  <tbody>\n",
       "    <tr>\n",
       "      <th>541200</th>\n",
       "      <td>0</td>\n",
       "      <td>2009-06-16 18:18:12</td>\n",
       "      <td>@chrishasboobs AHHH I HOPE YOUR OK!!!</td>\n",
       "      <td>2009-06-16</td>\n",
       "      <td>18:18:12</td>\n",
       "      <td>chrishasboobs AHHH I HOPE YOUR OK</td>\n",
       "    </tr>\n",
       "    <tr>\n",
       "      <th>750</th>\n",
       "      <td>0</td>\n",
       "      <td>2009-04-06 23:11:14</td>\n",
       "      <td>@misstoriblack cool , i have no tweet apps  fo...</td>\n",
       "      <td>2009-04-06</td>\n",
       "      <td>23:11:14</td>\n",
       "      <td>misstoriblack cool i have no tweet apps for my...</td>\n",
       "    </tr>\n",
       "    <tr>\n",
       "      <th>766711</th>\n",
       "      <td>0</td>\n",
       "      <td>2009-06-23 13:40:11</td>\n",
       "      <td>@TiannaChaos i know  just family drama. its la...</td>\n",
       "      <td>2009-06-23</td>\n",
       "      <td>13:40:11</td>\n",
       "      <td>TiannaChaos i know just family drama its lameh...</td>\n",
       "    </tr>\n",
       "    <tr>\n",
       "      <th>285055</th>\n",
       "      <td>0</td>\n",
       "      <td>2009-06-01 10:26:07</td>\n",
       "      <td>School email won't open  and I have geography ...</td>\n",
       "      <td>2009-06-01</td>\n",
       "      <td>10:26:07</td>\n",
       "      <td>School email wont open and I have geography st...</td>\n",
       "    </tr>\n",
       "    <tr>\n",
       "      <th>705995</th>\n",
       "      <td>0</td>\n",
       "      <td>2009-06-20 12:56:51</td>\n",
       "      <td>upper airways problem</td>\n",
       "      <td>2009-06-20</td>\n",
       "      <td>12:56:51</td>\n",
       "      <td>upper airways problem</td>\n",
       "    </tr>\n",
       "  </tbody>\n",
       "</table>\n",
       "</div>"
      ],
      "text/plain": [
       "        TARGET        FECHA_STRING  \\\n",
       "541200       0 2009-06-16 18:18:12   \n",
       "750          0 2009-04-06 23:11:14   \n",
       "766711       0 2009-06-23 13:40:11   \n",
       "285055       0 2009-06-01 10:26:07   \n",
       "705995       0 2009-06-20 12:56:51   \n",
       "\n",
       "                                               COMENTARIO       FECHA  \\\n",
       "541200             @chrishasboobs AHHH I HOPE YOUR OK!!!   2009-06-16   \n",
       "750     @misstoriblack cool , i have no tweet apps  fo...  2009-04-06   \n",
       "766711  @TiannaChaos i know  just family drama. its la...  2009-06-23   \n",
       "285055  School email won't open  and I have geography ...  2009-06-01   \n",
       "705995                             upper airways problem   2009-06-20   \n",
       "\n",
       "            HORA                                  COMENTARIO_LIMPIO  \n",
       "541200  18:18:12                 chrishasboobs AHHH I HOPE YOUR OK   \n",
       "750     23:11:14  misstoriblack cool i have no tweet apps for my...  \n",
       "766711  13:40:11  TiannaChaos i know just family drama its lameh...  \n",
       "285055  10:26:07  School email wont open and I have geography st...  \n",
       "705995  12:56:51                             upper airways problem   "
      ]
     },
     "execution_count": 53,
     "metadata": {},
     "output_type": "execute_result"
    }
   ],
   "source": [
    "train_dc.head()"
   ]
  },
  {
   "cell_type": "markdown",
   "metadata": {},
   "source": [
    "#### Tokenizacion"
   ]
  },
  {
   "cell_type": "code",
   "execution_count": 54,
   "metadata": {},
   "outputs": [],
   "source": [
    "from nltk.tokenize import word_tokenize\n",
    "#texto.split(' ')\n",
    "#texto = test['COMENTARIO'].str.split(' ')\n",
    "train_dc['PALABRAS'] = train_dc['COMENTARIO_LIMPIO'].str.split(' ')"
   ]
  },
  {
   "cell_type": "code",
   "execution_count": 55,
   "metadata": {},
   "outputs": [],
   "source": [
    "#def filter_tokens(tokens_list):\n",
    "    #return [token for token in tokens_list if \"@\" not in token]\n",
    " #   return [token.replace('@', '') for token in tokens_list]\n",
    "\n",
    "# Aplicar la función a la columna 'TOKENS'\n",
    "#train_1k_dc['PALABRAS'] = train_1k_dc['PALABRAS'].apply(filter_tokens)\n",
    "\n",
    "# Imprimir el DataFrame resultante con los tokens filtrados\n",
    "#print(train_1k_dc)\n",
    "#ELIMINAR SOLO EL ARROBA, MAS NO LA PALABRA O INCLUSO DEJARLO"
   ]
  },
  {
   "cell_type": "code",
   "execution_count": 57,
   "metadata": {},
   "outputs": [
    {
     "name": "stderr",
     "output_type": "stream",
     "text": [
      "[nltk_data] Downloading package punkt to\n",
      "[nltk_data]     C:\\Users\\usuario\\AppData\\Roaming\\nltk_data...\n",
      "[nltk_data]   Unzipping tokenizers\\punkt.zip.\n"
     ]
    },
    {
     "data": {
      "text/plain": [
       "True"
      ]
     },
     "execution_count": 57,
     "metadata": {},
     "output_type": "execute_result"
    }
   ],
   "source": [
    "import nltk\n",
    "nltk.download('punkt')"
   ]
  },
  {
   "cell_type": "code",
   "execution_count": 58,
   "metadata": {},
   "outputs": [
    {
     "data": {
      "text/html": [
       "<div>\n",
       "<style scoped>\n",
       "    .dataframe tbody tr th:only-of-type {\n",
       "        vertical-align: middle;\n",
       "    }\n",
       "\n",
       "    .dataframe tbody tr th {\n",
       "        vertical-align: top;\n",
       "    }\n",
       "\n",
       "    .dataframe thead th {\n",
       "        text-align: right;\n",
       "    }\n",
       "</style>\n",
       "<table border=\"1\" class=\"dataframe\">\n",
       "  <thead>\n",
       "    <tr style=\"text-align: right;\">\n",
       "      <th></th>\n",
       "      <th>TARGET</th>\n",
       "      <th>FECHA_STRING</th>\n",
       "      <th>COMENTARIO</th>\n",
       "      <th>FECHA</th>\n",
       "      <th>HORA</th>\n",
       "      <th>COMENTARIO_LIMPIO</th>\n",
       "      <th>PALABRAS</th>\n",
       "      <th>TOKENS</th>\n",
       "      <th>NUM_TOKENS</th>\n",
       "    </tr>\n",
       "  </thead>\n",
       "  <tbody>\n",
       "    <tr>\n",
       "      <th>541200</th>\n",
       "      <td>0</td>\n",
       "      <td>2009-06-16 18:18:12</td>\n",
       "      <td>@chrishasboobs AHHH I HOPE YOUR OK!!!</td>\n",
       "      <td>2009-06-16</td>\n",
       "      <td>18:18:12</td>\n",
       "      <td>chrishasboobs AHHH I HOPE YOUR OK</td>\n",
       "      <td>[chrishasboobs, AHHH, I, HOPE, YOUR, OK, ]</td>\n",
       "      <td>[chrishasboobs, AHHH, I, HOPE, YOUR, OK]</td>\n",
       "      <td>6</td>\n",
       "    </tr>\n",
       "    <tr>\n",
       "      <th>750</th>\n",
       "      <td>0</td>\n",
       "      <td>2009-04-06 23:11:14</td>\n",
       "      <td>@misstoriblack cool , i have no tweet apps  fo...</td>\n",
       "      <td>2009-04-06</td>\n",
       "      <td>23:11:14</td>\n",
       "      <td>misstoriblack cool i have no tweet apps for my...</td>\n",
       "      <td>[misstoriblack, cool, i, have, no, tweet, apps...</td>\n",
       "      <td>[misstoriblack, cool, i, have, no, tweet, apps...</td>\n",
       "      <td>11</td>\n",
       "    </tr>\n",
       "    <tr>\n",
       "      <th>766711</th>\n",
       "      <td>0</td>\n",
       "      <td>2009-06-23 13:40:11</td>\n",
       "      <td>@TiannaChaos i know  just family drama. its la...</td>\n",
       "      <td>2009-06-23</td>\n",
       "      <td>13:40:11</td>\n",
       "      <td>TiannaChaos i know just family drama its lameh...</td>\n",
       "      <td>[TiannaChaos, i, know, just, family, drama, it...</td>\n",
       "      <td>[TiannaChaos, i, know, just, family, drama, it...</td>\n",
       "      <td>27</td>\n",
       "    </tr>\n",
       "    <tr>\n",
       "      <th>285055</th>\n",
       "      <td>0</td>\n",
       "      <td>2009-06-01 10:26:07</td>\n",
       "      <td>School email won't open  and I have geography ...</td>\n",
       "      <td>2009-06-01</td>\n",
       "      <td>10:26:07</td>\n",
       "      <td>School email wont open and I have geography st...</td>\n",
       "      <td>[School, email, wont, open, and, I, have, geog...</td>\n",
       "      <td>[School, email, wont, open, and, I, have, geog...</td>\n",
       "      <td>15</td>\n",
       "    </tr>\n",
       "    <tr>\n",
       "      <th>705995</th>\n",
       "      <td>0</td>\n",
       "      <td>2009-06-20 12:56:51</td>\n",
       "      <td>upper airways problem</td>\n",
       "      <td>2009-06-20</td>\n",
       "      <td>12:56:51</td>\n",
       "      <td>upper airways problem</td>\n",
       "      <td>[upper, airways, problem, ]</td>\n",
       "      <td>[upper, airways, problem]</td>\n",
       "      <td>3</td>\n",
       "    </tr>\n",
       "  </tbody>\n",
       "</table>\n",
       "</div>"
      ],
      "text/plain": [
       "        TARGET        FECHA_STRING  \\\n",
       "541200       0 2009-06-16 18:18:12   \n",
       "750          0 2009-04-06 23:11:14   \n",
       "766711       0 2009-06-23 13:40:11   \n",
       "285055       0 2009-06-01 10:26:07   \n",
       "705995       0 2009-06-20 12:56:51   \n",
       "\n",
       "                                               COMENTARIO       FECHA  \\\n",
       "541200             @chrishasboobs AHHH I HOPE YOUR OK!!!   2009-06-16   \n",
       "750     @misstoriblack cool , i have no tweet apps  fo...  2009-04-06   \n",
       "766711  @TiannaChaos i know  just family drama. its la...  2009-06-23   \n",
       "285055  School email won't open  and I have geography ...  2009-06-01   \n",
       "705995                             upper airways problem   2009-06-20   \n",
       "\n",
       "            HORA                                  COMENTARIO_LIMPIO  \\\n",
       "541200  18:18:12                 chrishasboobs AHHH I HOPE YOUR OK    \n",
       "750     23:11:14  misstoriblack cool i have no tweet apps for my...   \n",
       "766711  13:40:11  TiannaChaos i know just family drama its lameh...   \n",
       "285055  10:26:07  School email wont open and I have geography st...   \n",
       "705995  12:56:51                             upper airways problem    \n",
       "\n",
       "                                                 PALABRAS  \\\n",
       "541200         [chrishasboobs, AHHH, I, HOPE, YOUR, OK, ]   \n",
       "750     [misstoriblack, cool, i, have, no, tweet, apps...   \n",
       "766711  [TiannaChaos, i, know, just, family, drama, it...   \n",
       "285055  [School, email, wont, open, and, I, have, geog...   \n",
       "705995                        [upper, airways, problem, ]   \n",
       "\n",
       "                                                   TOKENS  NUM_TOKENS  \n",
       "541200           [chrishasboobs, AHHH, I, HOPE, YOUR, OK]           6  \n",
       "750     [misstoriblack, cool, i, have, no, tweet, apps...          11  \n",
       "766711  [TiannaChaos, i, know, just, family, drama, it...          27  \n",
       "285055  [School, email, wont, open, and, I, have, geog...          15  \n",
       "705995                          [upper, airways, problem]           3  "
      ]
     },
     "execution_count": 58,
     "metadata": {},
     "output_type": "execute_result"
    }
   ],
   "source": [
    "import pandas as pd\n",
    "from nltk.tokenize import word_tokenize\n",
    " \n",
    "# Tokenizar el texto en cada fila\n",
    "train_dc['TOKENS'] = train_dc['COMENTARIO_LIMPIO'].apply(word_tokenize)\n",
    "\n",
    "# Calcular el número de tokens en cada fila\n",
    "train_dc['NUM_TOKENS'] = train_dc['TOKENS'].apply(len)\n",
    "\n",
    "# Imprimir el DataFrame resultante con la columna 'NUM_TOKENS'\n",
    "train_dc.head()"
   ]
  },
  {
   "cell_type": "markdown",
   "metadata": {},
   "source": [
    "#### Número de token después de la limpieza"
   ]
  },
  {
   "cell_type": "code",
   "execution_count": 59,
   "metadata": {},
   "outputs": [
    {
     "name": "stderr",
     "output_type": "stream",
     "text": [
      "C:\\Users\\usuario\\anaconda3\\envs\\antonio\\Lib\\site-packages\\seaborn\\_oldcore.py:1498: FutureWarning: is_categorical_dtype is deprecated and will be removed in a future version. Use isinstance(dtype, CategoricalDtype) instead\n",
      "  if pd.api.types.is_categorical_dtype(vector):\n",
      "C:\\Users\\usuario\\anaconda3\\envs\\antonio\\Lib\\site-packages\\seaborn\\_oldcore.py:1119: FutureWarning: use_inf_as_na option is deprecated and will be removed in a future version. Convert inf values to NaN before operating instead.\n",
      "  with pd.option_context('mode.use_inf_as_na', True):\n"
     ]
    },
    {
     "data": {
      "image/png": "[encoded data removed]",
      "text/plain": [
       "<Figure size 1000x500 with 1 Axes>"
      ]
     },
     "metadata": {},
     "output_type": "display_data"
    }
   ],
   "source": [
    "import matplotlib.pyplot as plt\n",
    "import seaborn as sns\n",
    "from nltk.tokenize import TweetTokenizer\n",
    "#Grafico de histograma de numero de tokens por sentencia.\n",
    "\n",
    "tknz = TweetTokenizer(preserve_case=False)\n",
    "size_texts_list = [len(tknz.tokenize(text)) for text in train_dc.COMENTARIO_LIMPIO]\n",
    "plt.figure(figsize=(10,5))\n",
    "sns.histplot(size_texts_list, bins=50)\n",
    "plt.title('Número de tokens')\n",
    "plt.show()"
   ]
  },
  {
   "cell_type": "code",
   "execution_count": 60,
   "metadata": {},
   "outputs": [
    {
     "data": {
      "text/html": [
       "<div>\n",
       "<style scoped>\n",
       "    .dataframe tbody tr th:only-of-type {\n",
       "        vertical-align: middle;\n",
       "    }\n",
       "\n",
       "    .dataframe tbody tr th {\n",
       "        vertical-align: top;\n",
       "    }\n",
       "\n",
       "    .dataframe thead th {\n",
       "        text-align: right;\n",
       "    }\n",
       "</style>\n",
       "<table border=\"1\" class=\"dataframe\">\n",
       "  <thead>\n",
       "    <tr style=\"text-align: right;\">\n",
       "      <th></th>\n",
       "      <th>TARGET</th>\n",
       "      <th>FECHA_STRING</th>\n",
       "      <th>COMENTARIO</th>\n",
       "      <th>FECHA</th>\n",
       "      <th>HORA</th>\n",
       "      <th>COMENTARIO_LIMPIO</th>\n",
       "      <th>PALABRAS</th>\n",
       "      <th>TOKENS</th>\n",
       "      <th>NUM_TOKENS</th>\n",
       "    </tr>\n",
       "  </thead>\n",
       "  <tbody>\n",
       "    <tr>\n",
       "      <th>541200</th>\n",
       "      <td>0</td>\n",
       "      <td>2009-06-16 18:18:12</td>\n",
       "      <td>@chrishasboobs AHHH I HOPE YOUR OK!!!</td>\n",
       "      <td>2009-06-16</td>\n",
       "      <td>18:18:12</td>\n",
       "      <td>chrishasboobs AHHH I HOPE YOUR OK</td>\n",
       "      <td>[chrishasboobs, AHHH, I, HOPE, YOUR, OK, ]</td>\n",
       "      <td>[chrishasboobs, AHHH, I, HOPE, YOUR, OK]</td>\n",
       "      <td>6</td>\n",
       "    </tr>\n",
       "    <tr>\n",
       "      <th>750</th>\n",
       "      <td>0</td>\n",
       "      <td>2009-04-06 23:11:14</td>\n",
       "      <td>@misstoriblack cool , i have no tweet apps  fo...</td>\n",
       "      <td>2009-04-06</td>\n",
       "      <td>23:11:14</td>\n",
       "      <td>misstoriblack cool i have no tweet apps for my...</td>\n",
       "      <td>[misstoriblack, cool, i, have, no, tweet, apps...</td>\n",
       "      <td>[misstoriblack, cool, i, have, no, tweet, apps...</td>\n",
       "      <td>11</td>\n",
       "    </tr>\n",
       "    <tr>\n",
       "      <th>766711</th>\n",
       "      <td>0</td>\n",
       "      <td>2009-06-23 13:40:11</td>\n",
       "      <td>@TiannaChaos i know  just family drama. its la...</td>\n",
       "      <td>2009-06-23</td>\n",
       "      <td>13:40:11</td>\n",
       "      <td>TiannaChaos i know just family drama its lameh...</td>\n",
       "      <td>[TiannaChaos, i, know, just, family, drama, it...</td>\n",
       "      <td>[TiannaChaos, i, know, just, family, drama, it...</td>\n",
       "      <td>27</td>\n",
       "    </tr>\n",
       "    <tr>\n",
       "      <th>285055</th>\n",
       "      <td>0</td>\n",
       "      <td>2009-06-01 10:26:07</td>\n",
       "      <td>School email won't open  and I have geography ...</td>\n",
       "      <td>2009-06-01</td>\n",
       "      <td>10:26:07</td>\n",
       "      <td>School email wont open and I have geography st...</td>\n",
       "      <td>[School, email, wont, open, and, I, have, geog...</td>\n",
       "      <td>[School, email, wont, open, and, I, have, geog...</td>\n",
       "      <td>15</td>\n",
       "    </tr>\n",
       "    <tr>\n",
       "      <th>705995</th>\n",
       "      <td>0</td>\n",
       "      <td>2009-06-20 12:56:51</td>\n",
       "      <td>upper airways problem</td>\n",
       "      <td>2009-06-20</td>\n",
       "      <td>12:56:51</td>\n",
       "      <td>upper airways problem</td>\n",
       "      <td>[upper, airways, problem, ]</td>\n",
       "      <td>[upper, airways, problem]</td>\n",
       "      <td>3</td>\n",
       "    </tr>\n",
       "  </tbody>\n",
       "</table>\n",
       "</div>"
      ],
      "text/plain": [
       "        TARGET        FECHA_STRING  \\\n",
       "541200       0 2009-06-16 18:18:12   \n",
       "750          0 2009-04-06 23:11:14   \n",
       "766711       0 2009-06-23 13:40:11   \n",
       "285055       0 2009-06-01 10:26:07   \n",
       "705995       0 2009-06-20 12:56:51   \n",
       "\n",
       "                                               COMENTARIO       FECHA  \\\n",
       "541200             @chrishasboobs AHHH I HOPE YOUR OK!!!   2009-06-16   \n",
       "750     @misstoriblack cool , i have no tweet apps  fo...  2009-04-06   \n",
       "766711  @TiannaChaos i know  just family drama. its la...  2009-06-23   \n",
       "285055  School email won't open  and I have geography ...  2009-06-01   \n",
       "705995                             upper airways problem   2009-06-20   \n",
       "\n",
       "            HORA                                  COMENTARIO_LIMPIO  \\\n",
       "541200  18:18:12                 chrishasboobs AHHH I HOPE YOUR OK    \n",
       "750     23:11:14  misstoriblack cool i have no tweet apps for my...   \n",
       "766711  13:40:11  TiannaChaos i know just family drama its lameh...   \n",
       "285055  10:26:07  School email wont open and I have geography st...   \n",
       "705995  12:56:51                             upper airways problem    \n",
       "\n",
       "                                                 PALABRAS  \\\n",
       "541200         [chrishasboobs, AHHH, I, HOPE, YOUR, OK, ]   \n",
       "750     [misstoriblack, cool, i, have, no, tweet, apps...   \n",
       "766711  [TiannaChaos, i, know, just, family, drama, it...   \n",
       "285055  [School, email, wont, open, and, I, have, geog...   \n",
       "705995                        [upper, airways, problem, ]   \n",
       "\n",
       "                                                   TOKENS  NUM_TOKENS  \n",
       "541200           [chrishasboobs, AHHH, I, HOPE, YOUR, OK]           6  \n",
       "750     [misstoriblack, cool, i, have, no, tweet, apps...          11  \n",
       "766711  [TiannaChaos, i, know, just, family, drama, it...          27  \n",
       "285055  [School, email, wont, open, and, I, have, geog...          15  \n",
       "705995                          [upper, airways, problem]           3  "
      ]
     },
     "execution_count": 60,
     "metadata": {},
     "output_type": "execute_result"
    }
   ],
   "source": [
    "train_dc.head()"
   ]
  },
  {
   "cell_type": "markdown",
   "metadata": {},
   "source": [
    "#### Detección de outliers"
   ]
  },
  {
   "cell_type": "code",
   "execution_count": 61,
   "metadata": {},
   "outputs": [
    {
     "data": {
      "text/plain": [
       "0.00     1.0\n",
       "0.25     7.0\n",
       "0.75    18.0\n",
       "1.00    41.0\n",
       "Name: NUM_TOKENS, dtype: float64"
      ]
     },
     "execution_count": 61,
     "metadata": {},
     "output_type": "execute_result"
    }
   ],
   "source": []
  },
  {
   "cell_type": "code",
   "execution_count": 63,
   "metadata": {},
   "outputs": [
    {
     "name": "stderr",
     "output_type": "stream",
     "text": [
      "C:\\Users\\usuario\\anaconda3\\envs\\antonio\\Lib\\site-packages\\seaborn\\_oldcore.py:1498: FutureWarning: is_categorical_dtype is deprecated and will be removed in a future version. Use isinstance(dtype, CategoricalDtype) instead\n",
      "  if pd.api.types.is_categorical_dtype(vector):\n"
     ]
    },
    {
     "data": {
      "image/png": "[encoded data removed]",
      "text/plain": [
       "<Figure size 1000x500 with 1 Axes>"
      ]
     },
     "metadata": {},
     "output_type": "display_data"
    }
   ],
   "source": [
    "import pandas as pd\n",
    "import seaborn as sns\n",
    "import matplotlib.pyplot as plt\n",
    "\n",
    "quantile_train_1k = train_dc[\"NUM_TOKENS\"].quantile([0, .25, .75, 1])\n",
    "quantile_train_1k\n",
    "\n",
    "Q1 = quantile_train_1k[0.25]\n",
    "Q3 = quantile_train_1k[0.75]\n",
    "IQR = Q3 - Q1\n",
    "\n",
    "lower_bound = Q1 - 1.5 * IQR\n",
    "upper_bound = Q3 + 1.5 * IQR \n",
    "\n",
    "# Identificar outliers\n",
    "outliers = train_dc[(train_dc['NUM_TOKENS'] < lower_bound) | (train_dc['NUM_TOKENS'] > upper_bound)]\n",
    "\n",
    "# Graficar el resultado\n",
    "plt.figure(figsize=(10, 5))\n",
    "sns.boxplot(x=\"NUM_TOKENS\", data=train_dc)#(train_dc['NUM_TOKENS'])\n",
    "plt.title('Boxplot de Número de Tokens')\n",
    "plt.show()"
   ]
  },
  {
   "cell_type": "code",
   "execution_count": 64,
   "metadata": {},
   "outputs": [
    {
     "data": {
      "text/html": [
       "<div>\n",
       "<style scoped>\n",
       "    .dataframe tbody tr th:only-of-type {\n",
       "        vertical-align: middle;\n",
       "    }\n",
       "\n",
       "    .dataframe tbody tr th {\n",
       "        vertical-align: top;\n",
       "    }\n",
       "\n",
       "    .dataframe thead th {\n",
       "        text-align: right;\n",
       "    }\n",
       "</style>\n",
       "<table border=\"1\" class=\"dataframe\">\n",
       "  <thead>\n",
       "    <tr style=\"text-align: right;\">\n",
       "      <th></th>\n",
       "      <th>TARGET</th>\n",
       "      <th>FECHA_STRING</th>\n",
       "      <th>COMENTARIO</th>\n",
       "      <th>FECHA</th>\n",
       "      <th>HORA</th>\n",
       "      <th>COMENTARIO_LIMPIO</th>\n",
       "      <th>PALABRAS</th>\n",
       "      <th>TOKENS</th>\n",
       "      <th>NUM_TOKENS</th>\n",
       "    </tr>\n",
       "  </thead>\n",
       "  <tbody>\n",
       "    <tr>\n",
       "      <th>640367</th>\n",
       "      <td>0</td>\n",
       "      <td>2009-06-19 00:07:50</td>\n",
       "      <td>I stop this and i wish u can talk to me ..And ...</td>\n",
       "      <td>2009-06-19</td>\n",
       "      <td>00:07:50</td>\n",
       "      <td>I stop this and i wish u can talk to me And we...</td>\n",
       "      <td>[I, stop, this, and, i, wish, u, can, talk, to...</td>\n",
       "      <td>[I, stop, this, and, i, wish, u, can, talk, to...</td>\n",
       "      <td>35</td>\n",
       "    </tr>\n",
       "    <tr>\n",
       "      <th>675528</th>\n",
       "      <td>0</td>\n",
       "      <td>2009-06-19 20:07:56</td>\n",
       "      <td>Tá»i hum wa mÃ¬nh ko tÃ i nÃ o ngá»§ ÄÆ°á»£c...</td>\n",
       "      <td>2009-06-19</td>\n",
       "      <td>20:07:56</td>\n",
       "      <td>Tái hum wa mÃnh ko tÃ i nÃ o ngá ÄÆác vÃbá ngÃ...</td>\n",
       "      <td>[Tái, hum, wa, mÃnh, ko, tÃ, i, nÃ, o, ngá, ÄÆ...</td>\n",
       "      <td>[Tái, hum, wa, mÃnh, ko, tÃ, i, nÃ, o, ngá, ÄÆ...</td>\n",
       "      <td>36</td>\n",
       "    </tr>\n",
       "    <tr>\n",
       "      <th>981534</th>\n",
       "      <td>4</td>\n",
       "      <td>2009-05-18 01:43:09</td>\n",
       "      <td>@ajayrochester DO IT DO IT DO IT DO IT DO IT D...</td>\n",
       "      <td>2009-05-18</td>\n",
       "      <td>01:43:09</td>\n",
       "      <td>ajayrochester DO IT DO IT DO IT DO IT DO IT DO...</td>\n",
       "      <td>[ajayrochester, DO, IT, DO, IT, DO, IT, DO, IT...</td>\n",
       "      <td>[ajayrochester, DO, IT, DO, IT, DO, IT, DO, IT...</td>\n",
       "      <td>41</td>\n",
       "    </tr>\n",
       "    <tr>\n",
       "      <th>582335</th>\n",
       "      <td>0</td>\n",
       "      <td>2009-06-17 16:56:20</td>\n",
       "      <td>So AT&amp;amp;T cnt kp up wit all the tweets I rcv...</td>\n",
       "      <td>2009-06-17</td>\n",
       "      <td>16:56:20</td>\n",
       "      <td>So ATampT cnt kp up wit all the tweets I rcv v...</td>\n",
       "      <td>[So, ATampT, cnt, kp, up, wit, all, the, tweet...</td>\n",
       "      <td>[So, ATampT, cnt, kp, up, wit, all, the, tweet...</td>\n",
       "      <td>37</td>\n",
       "    </tr>\n",
       "    <tr>\n",
       "      <th>852964</th>\n",
       "      <td>4</td>\n",
       "      <td>2009-04-20 23:40:29</td>\n",
       "      <td>@ddlovato don't care bout ppl who r saying u r...</td>\n",
       "      <td>2009-04-20</td>\n",
       "      <td>23:40:29</td>\n",
       "      <td>ddlovato dont care bout ppl who r saying u r t...</td>\n",
       "      <td>[ddlovato, dont, care, bout, ppl, who, r, sayi...</td>\n",
       "      <td>[ddlovato, dont, care, bout, ppl, who, r, sayi...</td>\n",
       "      <td>36</td>\n",
       "    </tr>\n",
       "    <tr>\n",
       "      <th>432443</th>\n",
       "      <td>0</td>\n",
       "      <td>2009-06-07 07:04:45</td>\n",
       "      <td>k so im um now im goin back to sleep... i feel...</td>\n",
       "      <td>2009-06-07</td>\n",
       "      <td>07:04:45</td>\n",
       "      <td>k so im um now im goin back to sleep i feel ti...</td>\n",
       "      <td>[k, so, im, um, now, im, goin, back, to, sleep...</td>\n",
       "      <td>[k, so, im, um, now, im, goin, back, to, sleep...</td>\n",
       "      <td>35</td>\n",
       "    </tr>\n",
       "  </tbody>\n",
       "</table>\n",
       "</div>"
      ],
      "text/plain": [
       "        TARGET        FECHA_STRING  \\\n",
       "640367       0 2009-06-19 00:07:50   \n",
       "675528       0 2009-06-19 20:07:56   \n",
       "981534       4 2009-05-18 01:43:09   \n",
       "582335       0 2009-06-17 16:56:20   \n",
       "852964       4 2009-04-20 23:40:29   \n",
       "432443       0 2009-06-07 07:04:45   \n",
       "\n",
       "                                               COMENTARIO       FECHA  \\\n",
       "640367  I stop this and i wish u can talk to me ..And ...  2009-06-19   \n",
       "675528  Tá»i hum wa mÃ¬nh ko tÃ i nÃ o ngá»§ ÄÆ°á»£c...  2009-06-19   \n",
       "981534  @ajayrochester DO IT DO IT DO IT DO IT DO IT D...  2009-05-18   \n",
       "582335  So AT&amp;T cnt kp up wit all the tweets I rcv...  2009-06-17   \n",
       "852964  @ddlovato don't care bout ppl who r saying u r...  2009-04-20   \n",
       "432443  k so im um now im goin back to sleep... i feel...  2009-06-07   \n",
       "\n",
       "            HORA                                  COMENTARIO_LIMPIO  \\\n",
       "640367  00:07:50  I stop this and i wish u can talk to me And we...   \n",
       "675528  20:07:56  Tái hum wa mÃnh ko tÃ i nÃ o ngá ÄÆác vÃbá ngÃ...   \n",
       "981534  01:43:09  ajayrochester DO IT DO IT DO IT DO IT DO IT DO...   \n",
       "582335  16:56:20  So ATampT cnt kp up wit all the tweets I rcv v...   \n",
       "852964  23:40:29  ddlovato dont care bout ppl who r saying u r t...   \n",
       "432443  07:04:45  k so im um now im goin back to sleep i feel ti...   \n",
       "\n",
       "                                                 PALABRAS  \\\n",
       "640367  [I, stop, this, and, i, wish, u, can, talk, to...   \n",
       "675528  [Tái, hum, wa, mÃnh, ko, tÃ, i, nÃ, o, ngá, ÄÆ...   \n",
       "981534  [ajayrochester, DO, IT, DO, IT, DO, IT, DO, IT...   \n",
       "582335  [So, ATampT, cnt, kp, up, wit, all, the, tweet...   \n",
       "852964  [ddlovato, dont, care, bout, ppl, who, r, sayi...   \n",
       "432443  [k, so, im, um, now, im, goin, back, to, sleep...   \n",
       "\n",
       "                                                   TOKENS  NUM_TOKENS  \n",
       "640367  [I, stop, this, and, i, wish, u, can, talk, to...          35  \n",
       "675528  [Tái, hum, wa, mÃnh, ko, tÃ, i, nÃ, o, ngá, ÄÆ...          36  \n",
       "981534  [ajayrochester, DO, IT, DO, IT, DO, IT, DO, IT...          41  \n",
       "582335  [So, ATampT, cnt, kp, up, wit, all, the, tweet...          37  \n",
       "852964  [ddlovato, dont, care, bout, ppl, who, r, sayi...          36  \n",
       "432443  [k, so, im, um, now, im, goin, back, to, sleep...          35  "
      ]
     },
     "execution_count": 64,
     "metadata": {},
     "output_type": "execute_result"
    }
   ],
   "source": [
    "outliers"
   ]
  },
  {
   "cell_type": "markdown",
   "metadata": {},
   "source": [
    "Los tweets con mas de \"max_tipic_train_1k\" son detectados porq es considerado outlier"
   ]
  },
  {
   "cell_type": "code",
   "execution_count": 65,
   "metadata": {},
   "outputs": [],
   "source": [
    "train_dc_2 = train_dc.sample(n=30000, random_state=42).copy()#300"
   ]
  },
  {
   "cell_type": "code",
   "execution_count": 67,
   "metadata": {},
   "outputs": [],
   "source": [
    "# Definir un diccionario de mapeo\n",
    "sentiment_mapping = {4: 'positive', 2: 'neutral', 0: 'negative'}\n",
    "train_dc_2['sentimiento'] = train_dc_2['TARGET'].map(sentiment_mapping)\n",
    "sentiment_mapping = {'positive': 1, 'negative':0} \n",
    "# Asignar al campo TARGET\n",
    "train_dc_2['TARGET'] = train_dc_2['sentimiento'].map(sentiment_mapping)"
   ]
  },
  {
   "cell_type": "code",
   "execution_count": 68,
   "metadata": {},
   "outputs": [],
   "source": [
    "train_dc_2['comentario_tarea'] = \"sentiment: \" + train_dc_2['COMENTARIO_LIMPIO']"
   ]
  },
  {
   "cell_type": "code",
   "execution_count": 69,
   "metadata": {},
   "outputs": [
    {
     "data": {
      "text/plain": [
       "array([1, 0], dtype=int64)"
      ]
     },
     "execution_count": 69,
     "metadata": {},
     "output_type": "execute_result"
    }
   ],
   "source": [
    "train_dc_2['TARGET'].unique()"
   ]
  },
  {
   "cell_type": "code",
   "execution_count": 70,
   "metadata": {},
   "outputs": [],
   "source": [
    "train_dc_2.to_csv('data_small_train.csv')"
   ]
  }
 ],
 "metadata": {
  "kernelspec": {
   "display_name": "antoniokernel",
   "language": "python",
   "name": "antoniokernel"
  },
  "language_info": {
   "codemirror_mode": {
    "name": "ipython",
    "version": 3
   },
   "file_extension": ".py",
   "mimetype": "text/x-python",
   "name": "python",
   "nbconvert_exporter": "python",
   "pygments_lexer": "ipython3",
   "version": "3.11.5"
  }
 },
 "nbformat": 4,
 "nbformat_minor": 4
}
